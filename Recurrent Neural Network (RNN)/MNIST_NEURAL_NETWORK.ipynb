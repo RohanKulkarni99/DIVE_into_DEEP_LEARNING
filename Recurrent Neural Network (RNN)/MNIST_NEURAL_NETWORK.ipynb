{
 "cells": [
  {
   "cell_type": "markdown",
   "id": "f2db75ba",
   "metadata": {},
   "source": [
    "# Reading shape of digits and performing basic Neural Network model on MNIST datasets."
   ]
  },
  {
   "cell_type": "markdown",
   "id": "e7203ee4",
   "metadata": {},
   "source": [
    "# Author- Rohan Kulkarni"
   ]
  },
  {
   "cell_type": "code",
   "execution_count": 1,
   "id": "31f52db9",
   "metadata": {},
   "outputs": [],
   "source": [
    "#!pip install tensorflow"
   ]
  },
  {
   "cell_type": "code",
   "execution_count": 1,
   "id": "31a83579",
   "metadata": {},
   "outputs": [],
   "source": [
    "import tensorflow as tf"
   ]
  },
  {
   "cell_type": "code",
   "execution_count": 2,
   "id": "d2a7acad",
   "metadata": {},
   "outputs": [
    {
     "data": {
      "text/plain": [
       "'2.6.0'"
      ]
     },
     "execution_count": 2,
     "metadata": {},
     "output_type": "execute_result"
    }
   ],
   "source": [
    "tf.version.VERSION"
   ]
  },
  {
   "cell_type": "code",
   "execution_count": 4,
   "id": "2831f0d6",
   "metadata": {},
   "outputs": [],
   "source": [
    "## softmax function"
   ]
  },
  {
   "cell_type": "code",
   "execution_count": 5,
   "id": "769be8a7",
   "metadata": {},
   "outputs": [
    {
     "data": {
      "text/plain": [
       "665042.3251431222"
      ]
     },
     "execution_count": 5,
     "metadata": {},
     "output_type": "execute_result"
    }
   ],
   "source": [
    "import numpy as np\n",
    "z=np.exp(11)+np.exp(12)+np.exp(13)\n",
    "z"
   ]
  },
  {
   "cell_type": "code",
   "execution_count": 6,
   "id": "e39e35b4",
   "metadata": {},
   "outputs": [
    {
     "data": {
      "text/plain": [
       "0.09003057317038046"
      ]
     },
     "execution_count": 6,
     "metadata": {},
     "output_type": "execute_result"
    }
   ],
   "source": [
    "proba_a=np.exp(11)/z\n",
    "proba_a"
   ]
  },
  {
   "cell_type": "code",
   "execution_count": 7,
   "id": "110d3271",
   "metadata": {},
   "outputs": [
    {
     "data": {
      "text/plain": [
       "0.24472847105479764"
      ]
     },
     "execution_count": 7,
     "metadata": {},
     "output_type": "execute_result"
    }
   ],
   "source": [
    "proba_b=np.exp(12)/z\n",
    "proba_b"
   ]
  },
  {
   "cell_type": "code",
   "execution_count": 8,
   "id": "6b413fb3",
   "metadata": {},
   "outputs": [
    {
     "data": {
      "text/plain": [
       "0.6652409557748219"
      ]
     },
     "execution_count": 8,
     "metadata": {},
     "output_type": "execute_result"
    }
   ],
   "source": [
    "proba_c=np.exp(13)/z\n",
    "proba_c"
   ]
  },
  {
   "cell_type": "code",
   "execution_count": 9,
   "id": "35df13d8",
   "metadata": {},
   "outputs": [
    {
     "data": {
      "text/plain": [
       "442413.3920089205"
      ]
     },
     "execution_count": 9,
     "metadata": {},
     "output_type": "execute_result"
    }
   ],
   "source": [
    "np.exp(13)"
   ]
  },
  {
   "cell_type": "code",
   "execution_count": 10,
   "id": "7bf961c4",
   "metadata": {},
   "outputs": [
    {
     "data": {
      "text/plain": [
       "162754.79141900392"
      ]
     },
     "execution_count": 10,
     "metadata": {},
     "output_type": "execute_result"
    }
   ],
   "source": [
    "np.exp(12)"
   ]
  },
  {
   "cell_type": "code",
   "execution_count": 4,
   "id": "b9b1f142",
   "metadata": {},
   "outputs": [],
   "source": [
    "# importing libraries\n",
    "import pandas as pd\n",
    "import matplotlib.pyplot as plt\n",
    "import seaborn as sns\n",
    "import numpy as np\n",
    "import tensorflow as tf\n",
    "import keras"
   ]
  },
  {
   "cell_type": "code",
   "execution_count": 12,
   "id": "1fdbaed9",
   "metadata": {},
   "outputs": [],
   "source": [
    "# label is target variable"
   ]
  },
  {
   "cell_type": "code",
   "execution_count": 13,
   "id": "74c7c571",
   "metadata": {},
   "outputs": [],
   "source": [
    "# mnist image data of hand return digits\n",
    "# one row is one image\n",
    "# 42000 images\n",
    "# each image 784 pixcels (784 dots or cell )\n",
    "#maximum pixcsel255\n",
    "# 2parts\n",
    "# 1)this is image data\n",
    "#2) Build the model MLP"
   ]
  },
  {
   "cell_type": "code",
   "execution_count": 5,
   "id": "77d10d8f",
   "metadata": {},
   "outputs": [],
   "source": [
    "mnist=pd.read_csv(r\"E:\\Imarticus\\15.NEURAL NETWORK\\MNIST_TRAIN.csv\")"
   ]
  },
  {
   "cell_type": "code",
   "execution_count": 6,
   "id": "18a575aa",
   "metadata": {},
   "outputs": [
    {
     "data": {
      "text/html": [
       "<div>\n",
       "<style scoped>\n",
       "    .dataframe tbody tr th:only-of-type {\n",
       "        vertical-align: middle;\n",
       "    }\n",
       "\n",
       "    .dataframe tbody tr th {\n",
       "        vertical-align: top;\n",
       "    }\n",
       "\n",
       "    .dataframe thead th {\n",
       "        text-align: right;\n",
       "    }\n",
       "</style>\n",
       "<table border=\"1\" class=\"dataframe\">\n",
       "  <thead>\n",
       "    <tr style=\"text-align: right;\">\n",
       "      <th></th>\n",
       "      <th>label</th>\n",
       "      <th>pixel0</th>\n",
       "      <th>pixel1</th>\n",
       "      <th>pixel2</th>\n",
       "      <th>pixel3</th>\n",
       "      <th>pixel4</th>\n",
       "      <th>pixel5</th>\n",
       "      <th>pixel6</th>\n",
       "      <th>pixel7</th>\n",
       "      <th>pixel8</th>\n",
       "      <th>...</th>\n",
       "      <th>pixel774</th>\n",
       "      <th>pixel775</th>\n",
       "      <th>pixel776</th>\n",
       "      <th>pixel777</th>\n",
       "      <th>pixel778</th>\n",
       "      <th>pixel779</th>\n",
       "      <th>pixel780</th>\n",
       "      <th>pixel781</th>\n",
       "      <th>pixel782</th>\n",
       "      <th>pixel783</th>\n",
       "    </tr>\n",
       "  </thead>\n",
       "  <tbody>\n",
       "    <tr>\n",
       "      <th>0</th>\n",
       "      <td>1</td>\n",
       "      <td>0</td>\n",
       "      <td>0</td>\n",
       "      <td>0</td>\n",
       "      <td>0</td>\n",
       "      <td>0</td>\n",
       "      <td>0</td>\n",
       "      <td>0</td>\n",
       "      <td>0</td>\n",
       "      <td>0</td>\n",
       "      <td>...</td>\n",
       "      <td>0</td>\n",
       "      <td>0</td>\n",
       "      <td>0</td>\n",
       "      <td>0</td>\n",
       "      <td>0</td>\n",
       "      <td>0</td>\n",
       "      <td>0</td>\n",
       "      <td>0</td>\n",
       "      <td>0</td>\n",
       "      <td>0</td>\n",
       "    </tr>\n",
       "    <tr>\n",
       "      <th>1</th>\n",
       "      <td>0</td>\n",
       "      <td>0</td>\n",
       "      <td>0</td>\n",
       "      <td>0</td>\n",
       "      <td>0</td>\n",
       "      <td>0</td>\n",
       "      <td>0</td>\n",
       "      <td>0</td>\n",
       "      <td>0</td>\n",
       "      <td>0</td>\n",
       "      <td>...</td>\n",
       "      <td>0</td>\n",
       "      <td>0</td>\n",
       "      <td>0</td>\n",
       "      <td>0</td>\n",
       "      <td>0</td>\n",
       "      <td>0</td>\n",
       "      <td>0</td>\n",
       "      <td>0</td>\n",
       "      <td>0</td>\n",
       "      <td>0</td>\n",
       "    </tr>\n",
       "    <tr>\n",
       "      <th>2</th>\n",
       "      <td>1</td>\n",
       "      <td>0</td>\n",
       "      <td>0</td>\n",
       "      <td>0</td>\n",
       "      <td>0</td>\n",
       "      <td>0</td>\n",
       "      <td>0</td>\n",
       "      <td>0</td>\n",
       "      <td>0</td>\n",
       "      <td>0</td>\n",
       "      <td>...</td>\n",
       "      <td>0</td>\n",
       "      <td>0</td>\n",
       "      <td>0</td>\n",
       "      <td>0</td>\n",
       "      <td>0</td>\n",
       "      <td>0</td>\n",
       "      <td>0</td>\n",
       "      <td>0</td>\n",
       "      <td>0</td>\n",
       "      <td>0</td>\n",
       "    </tr>\n",
       "    <tr>\n",
       "      <th>3</th>\n",
       "      <td>4</td>\n",
       "      <td>0</td>\n",
       "      <td>0</td>\n",
       "      <td>0</td>\n",
       "      <td>0</td>\n",
       "      <td>0</td>\n",
       "      <td>0</td>\n",
       "      <td>0</td>\n",
       "      <td>0</td>\n",
       "      <td>0</td>\n",
       "      <td>...</td>\n",
       "      <td>0</td>\n",
       "      <td>0</td>\n",
       "      <td>0</td>\n",
       "      <td>0</td>\n",
       "      <td>0</td>\n",
       "      <td>0</td>\n",
       "      <td>0</td>\n",
       "      <td>0</td>\n",
       "      <td>0</td>\n",
       "      <td>0</td>\n",
       "    </tr>\n",
       "    <tr>\n",
       "      <th>4</th>\n",
       "      <td>0</td>\n",
       "      <td>0</td>\n",
       "      <td>0</td>\n",
       "      <td>0</td>\n",
       "      <td>0</td>\n",
       "      <td>0</td>\n",
       "      <td>0</td>\n",
       "      <td>0</td>\n",
       "      <td>0</td>\n",
       "      <td>0</td>\n",
       "      <td>...</td>\n",
       "      <td>0</td>\n",
       "      <td>0</td>\n",
       "      <td>0</td>\n",
       "      <td>0</td>\n",
       "      <td>0</td>\n",
       "      <td>0</td>\n",
       "      <td>0</td>\n",
       "      <td>0</td>\n",
       "      <td>0</td>\n",
       "      <td>0</td>\n",
       "    </tr>\n",
       "    <tr>\n",
       "      <th>...</th>\n",
       "      <td>...</td>\n",
       "      <td>...</td>\n",
       "      <td>...</td>\n",
       "      <td>...</td>\n",
       "      <td>...</td>\n",
       "      <td>...</td>\n",
       "      <td>...</td>\n",
       "      <td>...</td>\n",
       "      <td>...</td>\n",
       "      <td>...</td>\n",
       "      <td>...</td>\n",
       "      <td>...</td>\n",
       "      <td>...</td>\n",
       "      <td>...</td>\n",
       "      <td>...</td>\n",
       "      <td>...</td>\n",
       "      <td>...</td>\n",
       "      <td>...</td>\n",
       "      <td>...</td>\n",
       "      <td>...</td>\n",
       "      <td>...</td>\n",
       "    </tr>\n",
       "    <tr>\n",
       "      <th>41995</th>\n",
       "      <td>0</td>\n",
       "      <td>0</td>\n",
       "      <td>0</td>\n",
       "      <td>0</td>\n",
       "      <td>0</td>\n",
       "      <td>0</td>\n",
       "      <td>0</td>\n",
       "      <td>0</td>\n",
       "      <td>0</td>\n",
       "      <td>0</td>\n",
       "      <td>...</td>\n",
       "      <td>0</td>\n",
       "      <td>0</td>\n",
       "      <td>0</td>\n",
       "      <td>0</td>\n",
       "      <td>0</td>\n",
       "      <td>0</td>\n",
       "      <td>0</td>\n",
       "      <td>0</td>\n",
       "      <td>0</td>\n",
       "      <td>0</td>\n",
       "    </tr>\n",
       "    <tr>\n",
       "      <th>41996</th>\n",
       "      <td>1</td>\n",
       "      <td>0</td>\n",
       "      <td>0</td>\n",
       "      <td>0</td>\n",
       "      <td>0</td>\n",
       "      <td>0</td>\n",
       "      <td>0</td>\n",
       "      <td>0</td>\n",
       "      <td>0</td>\n",
       "      <td>0</td>\n",
       "      <td>...</td>\n",
       "      <td>0</td>\n",
       "      <td>0</td>\n",
       "      <td>0</td>\n",
       "      <td>0</td>\n",
       "      <td>0</td>\n",
       "      <td>0</td>\n",
       "      <td>0</td>\n",
       "      <td>0</td>\n",
       "      <td>0</td>\n",
       "      <td>0</td>\n",
       "    </tr>\n",
       "    <tr>\n",
       "      <th>41997</th>\n",
       "      <td>7</td>\n",
       "      <td>0</td>\n",
       "      <td>0</td>\n",
       "      <td>0</td>\n",
       "      <td>0</td>\n",
       "      <td>0</td>\n",
       "      <td>0</td>\n",
       "      <td>0</td>\n",
       "      <td>0</td>\n",
       "      <td>0</td>\n",
       "      <td>...</td>\n",
       "      <td>0</td>\n",
       "      <td>0</td>\n",
       "      <td>0</td>\n",
       "      <td>0</td>\n",
       "      <td>0</td>\n",
       "      <td>0</td>\n",
       "      <td>0</td>\n",
       "      <td>0</td>\n",
       "      <td>0</td>\n",
       "      <td>0</td>\n",
       "    </tr>\n",
       "    <tr>\n",
       "      <th>41998</th>\n",
       "      <td>6</td>\n",
       "      <td>0</td>\n",
       "      <td>0</td>\n",
       "      <td>0</td>\n",
       "      <td>0</td>\n",
       "      <td>0</td>\n",
       "      <td>0</td>\n",
       "      <td>0</td>\n",
       "      <td>0</td>\n",
       "      <td>0</td>\n",
       "      <td>...</td>\n",
       "      <td>0</td>\n",
       "      <td>0</td>\n",
       "      <td>0</td>\n",
       "      <td>0</td>\n",
       "      <td>0</td>\n",
       "      <td>0</td>\n",
       "      <td>0</td>\n",
       "      <td>0</td>\n",
       "      <td>0</td>\n",
       "      <td>0</td>\n",
       "    </tr>\n",
       "    <tr>\n",
       "      <th>41999</th>\n",
       "      <td>9</td>\n",
       "      <td>0</td>\n",
       "      <td>0</td>\n",
       "      <td>0</td>\n",
       "      <td>0</td>\n",
       "      <td>0</td>\n",
       "      <td>0</td>\n",
       "      <td>0</td>\n",
       "      <td>0</td>\n",
       "      <td>0</td>\n",
       "      <td>...</td>\n",
       "      <td>0</td>\n",
       "      <td>0</td>\n",
       "      <td>0</td>\n",
       "      <td>0</td>\n",
       "      <td>0</td>\n",
       "      <td>0</td>\n",
       "      <td>0</td>\n",
       "      <td>0</td>\n",
       "      <td>0</td>\n",
       "      <td>0</td>\n",
       "    </tr>\n",
       "  </tbody>\n",
       "</table>\n",
       "<p>42000 rows × 785 columns</p>\n",
       "</div>"
      ],
      "text/plain": [
       "       label  pixel0  pixel1  pixel2  pixel3  pixel4  pixel5  pixel6  pixel7  \\\n",
       "0          1       0       0       0       0       0       0       0       0   \n",
       "1          0       0       0       0       0       0       0       0       0   \n",
       "2          1       0       0       0       0       0       0       0       0   \n",
       "3          4       0       0       0       0       0       0       0       0   \n",
       "4          0       0       0       0       0       0       0       0       0   \n",
       "...      ...     ...     ...     ...     ...     ...     ...     ...     ...   \n",
       "41995      0       0       0       0       0       0       0       0       0   \n",
       "41996      1       0       0       0       0       0       0       0       0   \n",
       "41997      7       0       0       0       0       0       0       0       0   \n",
       "41998      6       0       0       0       0       0       0       0       0   \n",
       "41999      9       0       0       0       0       0       0       0       0   \n",
       "\n",
       "       pixel8  ...  pixel774  pixel775  pixel776  pixel777  pixel778  \\\n",
       "0           0  ...         0         0         0         0         0   \n",
       "1           0  ...         0         0         0         0         0   \n",
       "2           0  ...         0         0         0         0         0   \n",
       "3           0  ...         0         0         0         0         0   \n",
       "4           0  ...         0         0         0         0         0   \n",
       "...       ...  ...       ...       ...       ...       ...       ...   \n",
       "41995       0  ...         0         0         0         0         0   \n",
       "41996       0  ...         0         0         0         0         0   \n",
       "41997       0  ...         0         0         0         0         0   \n",
       "41998       0  ...         0         0         0         0         0   \n",
       "41999       0  ...         0         0         0         0         0   \n",
       "\n",
       "       pixel779  pixel780  pixel781  pixel782  pixel783  \n",
       "0             0         0         0         0         0  \n",
       "1             0         0         0         0         0  \n",
       "2             0         0         0         0         0  \n",
       "3             0         0         0         0         0  \n",
       "4             0         0         0         0         0  \n",
       "...         ...       ...       ...       ...       ...  \n",
       "41995         0         0         0         0         0  \n",
       "41996         0         0         0         0         0  \n",
       "41997         0         0         0         0         0  \n",
       "41998         0         0         0         0         0  \n",
       "41999         0         0         0         0         0  \n",
       "\n",
       "[42000 rows x 785 columns]"
      ]
     },
     "execution_count": 6,
     "metadata": {},
     "output_type": "execute_result"
    }
   ],
   "source": [
    "mnist"
   ]
  },
  {
   "cell_type": "code",
   "execution_count": 15,
   "id": "3d4e53e0",
   "metadata": {},
   "outputs": [
    {
     "data": {
      "text/plain": [
       "(42000, 785)"
      ]
     },
     "execution_count": 15,
     "metadata": {},
     "output_type": "execute_result"
    }
   ],
   "source": [
    "mnist.shape"
   ]
  },
  {
   "cell_type": "code",
   "execution_count": 16,
   "id": "3be8fe47",
   "metadata": {},
   "outputs": [
    {
     "data": {
      "text/plain": [
       "pixel0      0\n",
       "pixel1      0\n",
       "pixel2      0\n",
       "pixel3      0\n",
       "pixel4      0\n",
       "           ..\n",
       "pixel779    0\n",
       "pixel780    0\n",
       "pixel781    0\n",
       "pixel782    0\n",
       "pixel783    0\n",
       "Name: 3, Length: 784, dtype: int64"
      ]
     },
     "execution_count": 16,
     "metadata": {},
     "output_type": "execute_result"
    }
   ],
   "source": [
    "abcd=mnist.iloc[3,1:]\n",
    "abcd"
   ]
  },
  {
   "cell_type": "code",
   "execution_count": 17,
   "id": "847a28f1",
   "metadata": {},
   "outputs": [
    {
     "data": {
      "text/plain": [
       "(784,)"
      ]
     },
     "execution_count": 17,
     "metadata": {},
     "output_type": "execute_result"
    }
   ],
   "source": [
    "abcd=np.array(abcd)\n",
    "abcd.shape"
   ]
  },
  {
   "cell_type": "code",
   "execution_count": 18,
   "id": "dbd14fd4",
   "metadata": {},
   "outputs": [],
   "source": [
    "abcd=abcd.reshape(28,28)# product of 28*28=784"
   ]
  },
  {
   "cell_type": "code",
   "execution_count": 19,
   "id": "0f471e15",
   "metadata": {},
   "outputs": [
    {
     "data": {
      "text/plain": [
       "<matplotlib.image.AxesImage at 0x271aa573460>"
      ]
     },
     "execution_count": 19,
     "metadata": {},
     "output_type": "execute_result"
    },
    {
     "data": {
      "image/png": "[encoded data removed]",
      "text/plain": [
       "<Figure size 432x288 with 1 Axes>"
      ]
     },
     "metadata": {
      "needs_background": "light"
     },
     "output_type": "display_data"
    }
   ],
   "source": [
    "plt.imshow(abcd)"
   ]
  },
  {
   "cell_type": "code",
   "execution_count": 20,
   "id": "e16c2df1",
   "metadata": {},
   "outputs": [
    {
     "data": {
      "text/plain": [
       "pixel0      0\n",
       "pixel1      0\n",
       "pixel2      0\n",
       "pixel3      0\n",
       "pixel4      0\n",
       "           ..\n",
       "pixel779    0\n",
       "pixel780    0\n",
       "pixel781    0\n",
       "pixel782    0\n",
       "pixel783    0\n",
       "Name: 2, Length: 784, dtype: int64"
      ]
     },
     "execution_count": 20,
     "metadata": {},
     "output_type": "execute_result"
    }
   ],
   "source": [
    "abcd=mnist.iloc[2,1:]\n",
    "abcd"
   ]
  },
  {
   "cell_type": "code",
   "execution_count": 21,
   "id": "20e34524",
   "metadata": {},
   "outputs": [
    {
     "data": {
      "text/plain": [
       "(784,)"
      ]
     },
     "execution_count": 21,
     "metadata": {},
     "output_type": "execute_result"
    }
   ],
   "source": [
    "abcd=np.array(abcd)\n",
    "abcd.shape"
   ]
  },
  {
   "cell_type": "code",
   "execution_count": 22,
   "id": "c94e9eca",
   "metadata": {},
   "outputs": [],
   "source": [
    "abcd=abcd.reshape(28,28)# product of 28*28=784"
   ]
  },
  {
   "cell_type": "code",
   "execution_count": 23,
   "id": "38f853cd",
   "metadata": {},
   "outputs": [
    {
     "data": {
      "text/plain": [
       "<matplotlib.image.AxesImage at 0x271aa5b60d0>"
      ]
     },
     "execution_count": 23,
     "metadata": {},
     "output_type": "execute_result"
    },
    {
     "data": {
      "image/png": "[encoded data removed]",
      "text/plain": [
       "<Figure size 432x288 with 1 Axes>"
      ]
     },
     "metadata": {
      "needs_background": "light"
     },
     "output_type": "display_data"
    }
   ],
   "source": [
    "plt.imshow(abcd)"
   ]
  },
  {
   "cell_type": "code",
   "execution_count": 24,
   "id": "e74f4d85",
   "metadata": {},
   "outputs": [
    {
     "data": {
      "image/png": "[encoded data removed]",
      "text/plain": [
       "<Figure size 432x288 with 24 Axes>"
      ]
     },
     "metadata": {
      "needs_background": "light"
     },
     "output_type": "display_data"
    }
   ],
   "source": [
    "mnist1=mnist.iloc[:,1:786]\n",
    "mnist1=np.array(mnist1)\n",
    "for i in range (24):\n",
    "    plt.subplot(3,8,i+1)\n",
    "    plt.imshow(mnist1[i,:].reshape(28,28))\n",
    "    plt.axis(\"off\")"
   ]
  },
  {
   "cell_type": "code",
   "execution_count": 25,
   "id": "9421a7fb",
   "metadata": {},
   "outputs": [
    {
     "data": {
      "image/png": "[encoded data removed]",
      "text/plain": [
       "<Figure size 432x288 with 24 Axes>"
      ]
     },
     "metadata": {
      "needs_background": "light"
     },
     "output_type": "display_data"
    }
   ],
   "source": [
    "mnist1=mnist.iloc[:,1:786]\n",
    "mnist1=np.array(mnist1)\n",
    "for i in range (24):\n",
    "    plt.subplot(3,8,i+1)\n",
    "    plt.imshow(mnist1[i,:].reshape(28,28))\n",
    "# plt.axis(\"off\")"
   ]
  },
  {
   "cell_type": "code",
   "execution_count": 26,
   "id": "2d8b3ded",
   "metadata": {},
   "outputs": [],
   "source": [
    "## Neural network coading starts"
   ]
  },
  {
   "cell_type": "code",
   "execution_count": 27,
   "id": "6cc7a11b",
   "metadata": {},
   "outputs": [],
   "source": [
    "mnist=pd.read_csv(r\"E:\\Imarticus\\15.NEURAL NETWORK\\MNIST_TRAIN.csv\")"
   ]
  },
  {
   "cell_type": "code",
   "execution_count": 28,
   "id": "ead82f03",
   "metadata": {},
   "outputs": [
    {
     "data": {
      "text/plain": [
       "(42000, 785)"
      ]
     },
     "execution_count": 28,
     "metadata": {},
     "output_type": "execute_result"
    }
   ],
   "source": [
    "mnist.shape"
   ]
  },
  {
   "cell_type": "code",
   "execution_count": 29,
   "id": "146a24b8",
   "metadata": {},
   "outputs": [],
   "source": [
    "mnist_x=mnist.iloc[:,1:786]\n",
    "mnist_y=mnist.iloc[:,0]"
   ]
  },
  {
   "cell_type": "code",
   "execution_count": 30,
   "id": "3d5453a6",
   "metadata": {},
   "outputs": [],
   "source": [
    "from sklearn.model_selection import train_test_split\n",
    "mnist_x_train,mnist_x_test,mnist_y_train,mnist_y_test=train_test_split(mnist_x,mnist_y,test_size=0.2)"
   ]
  },
  {
   "cell_type": "code",
   "execution_count": 31,
   "id": "e55cffc4",
   "metadata": {},
   "outputs": [],
   "source": [
    "mnist_x_train=tf.keras.utils.normalize(mnist_x_train)"
   ]
  },
  {
   "cell_type": "code",
   "execution_count": 32,
   "id": "c4a74333",
   "metadata": {},
   "outputs": [],
   "source": [
    "mnist_x_test=tf.keras.utils.normalize(mnist_x_test)\n",
    "#It sis not mandatory to take steps"
   ]
  },
  {
   "cell_type": "code",
   "execution_count": 33,
   "id": "1319667a",
   "metadata": {},
   "outputs": [],
   "source": [
    "model = tf.keras.models.Sequential() # initialize the model\n",
    "model.add(tf.keras.layers.Dense(128, activation = tf.nn.relu)) # 1st layer\n",
    "model.add(tf.keras.layers.Dense(128, activation = tf.nn.relu)) # 2nd layer\n",
    "model.add(tf.keras.layers.Dense(128, activation = tf.nn.relu)) # 3rd layer\n",
    "model.add(tf.keras.layers.Dense(10, activation = tf.nn.softmax)) # Last layer\n",
    "model.compile(optimizer = 'adam', loss = 'sparse_categorical_crossentropy', metrics = ['accuracy'])"
   ]
  },
  {
   "cell_type": "code",
   "execution_count": 34,
   "id": "da4b9ff3",
   "metadata": {},
   "outputs": [],
   "source": [
    "mnist_y_train=np.array(mnist_y_train)"
   ]
  },
  {
   "cell_type": "code",
   "execution_count": 45,
   "id": "22ee70c3",
   "metadata": {},
   "outputs": [
    {
     "name": "stdout",
     "output_type": "stream",
     "text": [
      "Epoch 1/40\n",
      "840/840 [==============================] - 5s 5ms/step - loss: 0.0186 - accuracy: 0.9961 - val_loss: 0.3328 - val_accuracy: 0.9304\n",
      "Epoch 2/40\n",
      "840/840 [==============================] - 4s 5ms/step - loss: 0.0347 - accuracy: 0.9889 - val_loss: 0.1560 - val_accuracy: 0.9649\n",
      "Epoch 3/40\n",
      "840/840 [==============================] - 4s 5ms/step - loss: 0.0146 - accuracy: 0.9953 - val_loss: 0.1561 - val_accuracy: 0.9671\n",
      "Epoch 4/40\n",
      "840/840 [==============================] - 4s 5ms/step - loss: 0.0135 - accuracy: 0.9953 - val_loss: 0.1624 - val_accuracy: 0.9674\n",
      "Epoch 5/40\n",
      "840/840 [==============================] - 4s 5ms/step - loss: 0.0120 - accuracy: 0.9956 - val_loss: 0.1633 - val_accuracy: 0.9649\n",
      "Epoch 6/40\n",
      "840/840 [==============================] - 4s 5ms/step - loss: 0.0131 - accuracy: 0.9952 - val_loss: 0.1693 - val_accuracy: 0.9679\n",
      "Epoch 7/40\n",
      "840/840 [==============================] - 4s 5ms/step - loss: 0.0140 - accuracy: 0.9956 - val_loss: 0.2134 - val_accuracy: 0.9640\n",
      "Epoch 8/40\n",
      "840/840 [==============================] - 4s 5ms/step - loss: 0.0120 - accuracy: 0.9959 - val_loss: 0.1825 - val_accuracy: 0.9676\n",
      "Epoch 9/40\n",
      "840/840 [==============================] - 4s 5ms/step - loss: 0.0068 - accuracy: 0.9978 - val_loss: 0.1808 - val_accuracy: 0.9676\n",
      "Epoch 10/40\n",
      "840/840 [==============================] - 4s 5ms/step - loss: 0.0143 - accuracy: 0.9948 - val_loss: 0.1814 - val_accuracy: 0.9686\n",
      "Epoch 11/40\n",
      "840/840 [==============================] - 4s 5ms/step - loss: 0.0080 - accuracy: 0.9972 - val_loss: 0.1703 - val_accuracy: 0.9693\n",
      "Epoch 12/40\n",
      "840/840 [==============================] - 4s 5ms/step - loss: 0.0096 - accuracy: 0.9969 - val_loss: 0.2238 - val_accuracy: 0.9573\n",
      "Epoch 13/40\n",
      "840/840 [==============================] - 4s 5ms/step - loss: 0.0088 - accuracy: 0.9970 - val_loss: 0.2441 - val_accuracy: 0.9613\n",
      "Epoch 14/40\n",
      "840/840 [==============================] - 4s 5ms/step - loss: 0.0118 - accuracy: 0.9962 - val_loss: 0.1700 - val_accuracy: 0.9692\n",
      "Epoch 15/40\n",
      "840/840 [==============================] - 4s 5ms/step - loss: 0.0077 - accuracy: 0.9974 - val_loss: 0.1603 - val_accuracy: 0.9717\n",
      "Epoch 16/40\n",
      "840/840 [==============================] - 4s 5ms/step - loss: 0.0071 - accuracy: 0.9980 - val_loss: 0.2013 - val_accuracy: 0.9695\n",
      "Epoch 17/40\n",
      "840/840 [==============================] - 4s 5ms/step - loss: 0.0114 - accuracy: 0.9964 - val_loss: 0.1762 - val_accuracy: 0.9704\n",
      "Epoch 18/40\n",
      "840/840 [==============================] - 4s 5ms/step - loss: 0.0042 - accuracy: 0.9988 - val_loss: 0.1932 - val_accuracy: 0.9692\n",
      "Epoch 19/40\n",
      "840/840 [==============================] - 4s 5ms/step - loss: 0.0133 - accuracy: 0.9958 - val_loss: 0.1943 - val_accuracy: 0.9668\n",
      "Epoch 20/40\n",
      "840/840 [==============================] - 4s 5ms/step - loss: 0.0016 - accuracy: 0.9997 - val_loss: 0.1846 - val_accuracy: 0.9723\n",
      "Epoch 21/40\n",
      "840/840 [==============================] - 4s 5ms/step - loss: 0.0108 - accuracy: 0.9969 - val_loss: 0.1603 - val_accuracy: 0.9723\n",
      "Epoch 22/40\n",
      "840/840 [==============================] - 4s 5ms/step - loss: 0.0069 - accuracy: 0.9981 - val_loss: 0.2211 - val_accuracy: 0.9652\n",
      "Epoch 23/40\n",
      "840/840 [==============================] - 4s 5ms/step - loss: 0.0078 - accuracy: 0.9975 - val_loss: 0.1916 - val_accuracy: 0.9690\n",
      "Epoch 24/40\n",
      "840/840 [==============================] - 4s 5ms/step - loss: 0.0072 - accuracy: 0.9977 - val_loss: 0.1883 - val_accuracy: 0.9710\n",
      "Epoch 25/40\n",
      "840/840 [==============================] - 4s 5ms/step - loss: 0.0092 - accuracy: 0.9975 - val_loss: 0.1591 - val_accuracy: 0.9741\n",
      "Epoch 26/40\n",
      "840/840 [==============================] - 4s 5ms/step - loss: 0.0015 - accuracy: 0.9997 - val_loss: 0.1797 - val_accuracy: 0.9741\n",
      "Epoch 27/40\n",
      "840/840 [==============================] - 4s 5ms/step - loss: 0.0129 - accuracy: 0.9960 - val_loss: 0.2106 - val_accuracy: 0.9670\n",
      "Epoch 28/40\n",
      "840/840 [==============================] - 4s 5ms/step - loss: 0.0040 - accuracy: 0.9987 - val_loss: 0.1942 - val_accuracy: 0.9722\n",
      "Epoch 29/40\n",
      "840/840 [==============================] - 4s 5ms/step - loss: 0.0050 - accuracy: 0.9983 - val_loss: 0.2036 - val_accuracy: 0.9679\n",
      "Epoch 30/40\n",
      "840/840 [==============================] - 4s 5ms/step - loss: 0.0099 - accuracy: 0.9969 - val_loss: 0.1929 - val_accuracy: 0.9704\n",
      "Epoch 31/40\n",
      "840/840 [==============================] - 4s 5ms/step - loss: 0.0045 - accuracy: 0.9983 - val_loss: 0.1902 - val_accuracy: 0.9692\n",
      "Epoch 32/40\n",
      "840/840 [==============================] - 4s 5ms/step - loss: 0.0052 - accuracy: 0.9985 - val_loss: 0.1804 - val_accuracy: 0.9711\n",
      "Epoch 33/40\n",
      "840/840 [==============================] - 4s 5ms/step - loss: 0.0076 - accuracy: 0.9977 - val_loss: 0.2124 - val_accuracy: 0.9682\n",
      "Epoch 34/40\n",
      "840/840 [==============================] - 4s 5ms/step - loss: 0.0040 - accuracy: 0.9990 - val_loss: 0.2273 - val_accuracy: 0.9673\n",
      "Epoch 35/40\n",
      "840/840 [==============================] - 4s 5ms/step - loss: 0.0049 - accuracy: 0.9984 - val_loss: 0.2587 - val_accuracy: 0.9647\n",
      "Epoch 36/40\n",
      "840/840 [==============================] - 4s 5ms/step - loss: 0.0082 - accuracy: 0.9974 - val_loss: 0.2088 - val_accuracy: 0.9696\n",
      "Epoch 37/40\n",
      "840/840 [==============================] - 4s 5ms/step - loss: 0.0039 - accuracy: 0.9987 - val_loss: 0.2045 - val_accuracy: 0.9707\n",
      "Epoch 38/40\n",
      "840/840 [==============================] - 4s 5ms/step - loss: 0.0044 - accuracy: 0.9988 - val_loss: 0.2227 - val_accuracy: 0.9698\n",
      "Epoch 39/40\n",
      "840/840 [==============================] - 4s 5ms/step - loss: 0.0073 - accuracy: 0.9976 - val_loss: 0.2398 - val_accuracy: 0.9676\n",
      "Epoch 40/40\n",
      "840/840 [==============================] - 4s 5ms/step - loss: 0.0035 - accuracy: 0.9990 - val_loss: 0.2247 - val_accuracy: 0.9686\n"
     ]
    }
   ],
   "source": [
    "model1=model.fit(mnist_x_train,mnist_y_train,epochs=40,validation_split=0.2,batch_size=32)"
   ]
  },
  {
   "cell_type": "code",
   "execution_count": 36,
   "id": "167c5bff",
   "metadata": {},
   "outputs": [
    {
     "data": {
      "text/plain": [
       "{'loss': [0.6189390420913696,\n",
       "  0.22239378094673157,\n",
       "  0.15859894454479218,\n",
       "  0.12348144501447678,\n",
       "  0.09823025017976761,\n",
       "  0.07888419181108475,\n",
       "  0.06476359069347382,\n",
       "  0.05200976878404617,\n",
       "  0.043072137981653214,\n",
       "  0.03563772886991501,\n",
       "  0.026465311646461487,\n",
       "  0.021922502666711807,\n",
       "  0.022060172632336617,\n",
       "  0.014849835075438023,\n",
       "  0.01303043495863676,\n",
       "  0.011724970303475857,\n",
       "  0.012752077542245388,\n",
       "  0.01059707347303629,\n",
       "  0.010600550100207329,\n",
       "  0.0058333477936685085,\n",
       "  0.006263409275561571,\n",
       "  0.005973870866000652,\n",
       "  0.007309867534786463,\n",
       "  0.007571988273411989,\n",
       "  0.019603613764047623,\n",
       "  0.004731501918286085,\n",
       "  0.0024858287069946527,\n",
       "  0.005070486105978489,\n",
       "  0.007199109066277742,\n",
       "  0.012010818347334862,\n",
       "  0.007041989825665951,\n",
       "  0.000820194196421653,\n",
       "  0.00016668236639816314,\n",
       "  0.00011338515469105914,\n",
       "  8.678711310494691e-05,\n",
       "  7.176678627729416e-05,\n",
       "  6.0345941164996475e-05,\n",
       "  5.1217866712249815e-05,\n",
       "  4.4123044062871486e-05,\n",
       "  3.845054015982896e-05],\n",
       " 'accuracy': [0.8247395753860474,\n",
       "  0.9323288798332214,\n",
       "  0.952343761920929,\n",
       "  0.9620535969734192,\n",
       "  0.9700892567634583,\n",
       "  0.9771205186843872,\n",
       "  0.9803571701049805,\n",
       "  0.9844121932983398,\n",
       "  0.9873883724212646,\n",
       "  0.9895461201667786,\n",
       "  0.9927455186843872,\n",
       "  0.9943824410438538,\n",
       "  0.9936383962631226,\n",
       "  0.99609375,\n",
       "  0.99609375,\n",
       "  0.9963541626930237,\n",
       "  0.996279776096344,\n",
       "  0.9965773820877075,\n",
       "  0.996279776096344,\n",
       "  0.9981026649475098,\n",
       "  0.9981398582458496,\n",
       "  0.9979910850524902,\n",
       "  0.9977678656578064,\n",
       "  0.9975818395614624,\n",
       "  0.9938616156578064,\n",
       "  0.9986234903335571,\n",
       "  0.9992931485176086,\n",
       "  0.9982514977455139,\n",
       "  0.9973958134651184,\n",
       "  0.9957961440086365,\n",
       "  0.9977678656578064,\n",
       "  0.9999628067016602,\n",
       "  1.0,\n",
       "  1.0,\n",
       "  1.0,\n",
       "  1.0,\n",
       "  1.0,\n",
       "  1.0,\n",
       "  1.0,\n",
       "  1.0],\n",
       " 'val_loss': [0.2768012285232544,\n",
       "  0.1952737420797348,\n",
       "  0.1776716262102127,\n",
       "  0.1502683311700821,\n",
       "  0.13417500257492065,\n",
       "  0.11475159227848053,\n",
       "  0.11834752559661865,\n",
       "  0.135478213429451,\n",
       "  0.10615979880094528,\n",
       "  0.1088348776102066,\n",
       "  0.11431317031383514,\n",
       "  0.12523412704467773,\n",
       "  0.11796528100967407,\n",
       "  0.12857471406459808,\n",
       "  0.11873535811901093,\n",
       "  0.14582349359989166,\n",
       "  0.1515476107597351,\n",
       "  0.14366061985492706,\n",
       "  0.1457727998495102,\n",
       "  0.1357717514038086,\n",
       "  0.17957721650600433,\n",
       "  0.21323521435260773,\n",
       "  0.15273430943489075,\n",
       "  0.17597024142742157,\n",
       "  0.1518326848745346,\n",
       "  0.15162041783332825,\n",
       "  0.16408370435237885,\n",
       "  0.17706704139709473,\n",
       "  0.192219540476799,\n",
       "  0.174962118268013,\n",
       "  0.1601855754852295,\n",
       "  0.15099582076072693,\n",
       "  0.15295979380607605,\n",
       "  0.1543251872062683,\n",
       "  0.15704429149627686,\n",
       "  0.16016528010368347,\n",
       "  0.16169564425945282,\n",
       "  0.16226278245449066,\n",
       "  0.16535711288452148,\n",
       "  0.16751249134540558],\n",
       " 'val_accuracy': [0.9186012148857117,\n",
       "  0.9407737851142883,\n",
       "  0.9437500238418579,\n",
       "  0.9520833492279053,\n",
       "  0.9583333134651184,\n",
       "  0.9639880657196045,\n",
       "  0.963690459728241,\n",
       "  0.9590773582458496,\n",
       "  0.9653273820877075,\n",
       "  0.9683035612106323,\n",
       "  0.9672619104385376,\n",
       "  0.9654762148857117,\n",
       "  0.9684523940086365,\n",
       "  0.9672619104385376,\n",
       "  0.9697916507720947,\n",
       "  0.9642857313156128,\n",
       "  0.9665178656578064,\n",
       "  0.9671130776405334,\n",
       "  0.9669643044471741,\n",
       "  0.9717261791229248,\n",
       "  0.9651785492897034,\n",
       "  0.9610118865966797,\n",
       "  0.9691964387893677,\n",
       "  0.9641368985176086,\n",
       "  0.9675595164299011,\n",
       "  0.9712797403335571,\n",
       "  0.968154788017273,\n",
       "  0.9674107432365417,\n",
       "  0.963690459728241,\n",
       "  0.9675595164299011,\n",
       "  0.969345211982727,\n",
       "  0.9708333611488342,\n",
       "  0.9711309671401978,\n",
       "  0.9717261791229248,\n",
       "  0.9714285731315613,\n",
       "  0.9711309671401978,\n",
       "  0.9714285731315613,\n",
       "  0.9715774059295654,\n",
       "  0.9711309671401978,\n",
       "  0.9709821343421936]}"
      ]
     },
     "execution_count": 36,
     "metadata": {},
     "output_type": "execute_result"
    }
   ],
   "source": [
    "model1.history"
   ]
  },
  {
   "cell_type": "code",
   "execution_count": 37,
   "id": "3a0d5562",
   "metadata": {},
   "outputs": [],
   "source": [
    "df1=pd.DataFrame(model1.history)"
   ]
  },
  {
   "cell_type": "code",
   "execution_count": 38,
   "id": "a5ade735",
   "metadata": {},
   "outputs": [
    {
     "data": {
      "text/html": [
       "<div>\n",
       "<style scoped>\n",
       "    .dataframe tbody tr th:only-of-type {\n",
       "        vertical-align: middle;\n",
       "    }\n",
       "\n",
       "    .dataframe tbody tr th {\n",
       "        vertical-align: top;\n",
       "    }\n",
       "\n",
       "    .dataframe thead th {\n",
       "        text-align: right;\n",
       "    }\n",
       "</style>\n",
       "<table border=\"1\" class=\"dataframe\">\n",
       "  <thead>\n",
       "    <tr style=\"text-align: right;\">\n",
       "      <th></th>\n",
       "      <th>loss</th>\n",
       "      <th>accuracy</th>\n",
       "      <th>val_loss</th>\n",
       "      <th>val_accuracy</th>\n",
       "    </tr>\n",
       "  </thead>\n",
       "  <tbody>\n",
       "    <tr>\n",
       "      <th>0</th>\n",
       "      <td>0.618939</td>\n",
       "      <td>0.824740</td>\n",
       "      <td>0.276801</td>\n",
       "      <td>0.918601</td>\n",
       "    </tr>\n",
       "    <tr>\n",
       "      <th>1</th>\n",
       "      <td>0.222394</td>\n",
       "      <td>0.932329</td>\n",
       "      <td>0.195274</td>\n",
       "      <td>0.940774</td>\n",
       "    </tr>\n",
       "    <tr>\n",
       "      <th>2</th>\n",
       "      <td>0.158599</td>\n",
       "      <td>0.952344</td>\n",
       "      <td>0.177672</td>\n",
       "      <td>0.943750</td>\n",
       "    </tr>\n",
       "    <tr>\n",
       "      <th>3</th>\n",
       "      <td>0.123481</td>\n",
       "      <td>0.962054</td>\n",
       "      <td>0.150268</td>\n",
       "      <td>0.952083</td>\n",
       "    </tr>\n",
       "    <tr>\n",
       "      <th>4</th>\n",
       "      <td>0.098230</td>\n",
       "      <td>0.970089</td>\n",
       "      <td>0.134175</td>\n",
       "      <td>0.958333</td>\n",
       "    </tr>\n",
       "  </tbody>\n",
       "</table>\n",
       "</div>"
      ],
      "text/plain": [
       "       loss  accuracy  val_loss  val_accuracy\n",
       "0  0.618939  0.824740  0.276801      0.918601\n",
       "1  0.222394  0.932329  0.195274      0.940774\n",
       "2  0.158599  0.952344  0.177672      0.943750\n",
       "3  0.123481  0.962054  0.150268      0.952083\n",
       "4  0.098230  0.970089  0.134175      0.958333"
      ]
     },
     "execution_count": 38,
     "metadata": {},
     "output_type": "execute_result"
    }
   ],
   "source": [
    "df1.head()"
   ]
  },
  {
   "cell_type": "code",
   "execution_count": 44,
   "id": "ec4a760a",
   "metadata": {},
   "outputs": [
    {
     "data": {
      "image/png": "[encoded data removed]",
      "text/plain": [
       "<Figure size 576x576 with 1 Axes>"
      ]
     },
     "metadata": {
      "needs_background": "light"
     },
     "output_type": "display_data"
    }
   ],
   "source": [
    "plt.figure(figsize=(8,8))\n",
    "\n",
    "plt.plot(df1.loss,color='b',marker='*',label='loss')\n",
    "plt.plot(df1.val_loss,color='r',marker='+',label='validation loss')\n",
    "plt.grid()\n",
    "plt.xlabel('Iterations',size=15)\n",
    "plt.ylabel('Error_Cross Entropy',size=15)\n",
    "plt.show()"
   ]
  },
  {
   "cell_type": "code",
   "execution_count": null,
   "id": "274f66ff",
   "metadata": {},
   "outputs": [],
   "source": []
  },
  {
   "cell_type": "code",
   "execution_count": null,
   "id": "cfa4842e",
   "metadata": {},
   "outputs": [],
   "source": []
  },
  {
   "cell_type": "code",
   "execution_count": null,
   "id": "907ac04e",
   "metadata": {},
   "outputs": [],
   "source": []
  },
  {
   "cell_type": "code",
   "execution_count": 40,
   "id": "11996d82",
   "metadata": {},
   "outputs": [
    {
     "data": {
      "text/plain": [
       "array([[1.54447524e-16, 9.57545311e-19, 1.09177404e-13, ...,\n",
       "        8.71516567e-17, 4.68936651e-19, 1.31687879e-12],\n",
       "       [5.82626341e-13, 1.40559644e-15, 8.03113164e-13, ...,\n",
       "        1.45811107e-19, 1.00000000e+00, 2.32265229e-09],\n",
       "       [4.06526945e-17, 8.57674608e-13, 1.00000000e+00, ...,\n",
       "        4.43757884e-14, 5.94792049e-10, 1.03849828e-25],\n",
       "       ...,\n",
       "       [1.00000000e+00, 1.42742489e-17, 3.84099863e-10, ...,\n",
       "        2.39020587e-12, 1.35869048e-17, 1.66080062e-18],\n",
       "       [1.32843181e-10, 5.95630286e-16, 4.03201642e-14, ...,\n",
       "        3.54356807e-20, 5.26497045e-15, 1.89971333e-18],\n",
       "       [4.98203604e-14, 1.79949792e-13, 5.52185668e-07, ...,\n",
       "        9.99999404e-01, 1.80369165e-15, 7.18489531e-14]], dtype=float32)"
      ]
     },
     "execution_count": 40,
     "metadata": {},
     "output_type": "execute_result"
    }
   ],
   "source": [
    "pred1=model.predict(mnist_x_test)\n",
    "pred1# prediction in prob"
   ]
  },
  {
   "cell_type": "code",
   "execution_count": 41,
   "id": "405153df",
   "metadata": {},
   "outputs": [],
   "source": [
    "classes_x=np.argmax(pred1,axis=1)# featch the position og highest probability"
   ]
  },
  {
   "cell_type": "code",
   "execution_count": 42,
   "id": "c7c6671d",
   "metadata": {},
   "outputs": [
    {
     "data": {
      "text/plain": [
       "array([[786,   0,   3,   1,   1,   4,   3,   1,   3,   3],\n",
       "       [  0, 904,   4,   1,   3,   0,   0,   6,   6,   0],\n",
       "       [  4,   2, 836,  11,   2,   1,   0,  12,   1,   0],\n",
       "       [  2,   0,   4, 821,   0,  13,   0,   1,   5,   3],\n",
       "       [  0,   1,   0,   0, 768,   1,   0,   5,   0,   9],\n",
       "       [  1,   0,   0,   7,   2, 763,   3,   1,   5,   5],\n",
       "       [  3,   0,   0,   0,   3,   7, 809,   1,   4,   0],\n",
       "       [  0,   4,   4,   1,   2,   1,   0, 873,   0,  13],\n",
       "       [  2,   3,   9,   6,   0,   8,   1,   0, 818,   3],\n",
       "       [  1,   0,   0,   2,   7,   3,   0,   5,   4, 785]], dtype=int64)"
      ]
     },
     "execution_count": 42,
     "metadata": {},
     "output_type": "execute_result"
    }
   ],
   "source": [
    "from sklearn.metrics import confusion_matrix\n",
    "tab_x = confusion_matrix(classes_x, mnist_y_test) \n",
    "tab_x"
   ]
  },
  {
   "cell_type": "code",
   "execution_count": 43,
   "id": "c123e1cd",
   "metadata": {},
   "outputs": [],
   "source": [
    "# no of layes,max acc,layrs et c"
   ]
  },
  {
   "cell_type": "code",
   "execution_count": null,
   "id": "537ae40f",
   "metadata": {},
   "outputs": [],
   "source": []
  },
  {
   "cell_type": "code",
   "execution_count": null,
   "id": "935836c8",
   "metadata": {},
   "outputs": [],
   "source": []
  }
 ],
 "metadata": {
  "kernelspec": {
   "display_name": "Python 3 (ipykernel)",
   "language": "python",
   "name": "python3"
  },
  "language_info": {
   "codemirror_mode": {
    "name": "ipython",
    "version": 3
   },
   "file_extension": ".py",
   "mimetype": "text/x-python",
   "name": "python",
   "nbconvert_exporter": "python",
   "pygments_lexer": "ipython3",
   "version": "3.9.7"
  }
 },
 "nbformat": 4,
 "nbformat_minor": 5
}
