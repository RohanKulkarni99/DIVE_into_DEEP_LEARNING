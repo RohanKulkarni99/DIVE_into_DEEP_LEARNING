{
 "cells": [
  {
   "cell_type": "markdown",
   "metadata": {},
   "source": [
    "# Detecting Mode of Transport using CNN"
   ]
  },
  {
   "cell_type": "markdown",
   "metadata": {},
   "source": [
    "## Author : Rohan Kulkarni"
   ]
  },
  {
   "cell_type": "code",
   "execution_count": 1,
   "metadata": {},
   "outputs": [],
   "source": [
    "import pandas as pd\n",
    "import matplotlib.pyplot as plt\n",
    "import seaborn as sns\n",
    "import numpy as np\n",
    "import tensorflow as tf\n",
    "import keras\n",
    "from keras.models import Sequential\n",
    "from keras.layers import Conv2D,MaxPool2D,Flatten,Dense,Dropout\n",
    "import cv2\n",
    "import os"
   ]
  },
  {
   "cell_type": "code",
   "execution_count": 3,
   "metadata": {},
   "outputs": [],
   "source": [
    "path1=r'E:\\Imarticus\\15.NEURAL NETWORK\\transport' ## Folder path\n",
    "cate=['0bike','1Camel','2car','3elephant','4horse','5plane','6ship','7train','8truck','9autorikshaw']                           ## For sub-folders"
   ]
  },
  {
   "cell_type": "code",
   "execution_count": 4,
   "metadata": {},
   "outputs": [
    {
     "name": "stdout",
     "output_type": "stream",
     "text": [
      "E:\\Imarticus\\15.NEURAL NETWORK\\transport\\0bike\n",
      "E:\\Imarticus\\15.NEURAL NETWORK\\transport\\1Camel\n",
      "E:\\Imarticus\\15.NEURAL NETWORK\\transport\\2car\n",
      "E:\\Imarticus\\15.NEURAL NETWORK\\transport\\3elephant\n",
      "E:\\Imarticus\\15.NEURAL NETWORK\\transport\\4horse\n",
      "E:\\Imarticus\\15.NEURAL NETWORK\\transport\\5plane\n",
      "E:\\Imarticus\\15.NEURAL NETWORK\\transport\\6ship\n",
      "E:\\Imarticus\\15.NEURAL NETWORK\\transport\\7train\n",
      "E:\\Imarticus\\15.NEURAL NETWORK\\transport\\8truck\n",
      "E:\\Imarticus\\15.NEURAL NETWORK\\transport\\9autorikshaw\n"
     ]
    }
   ],
   "source": [
    "for i in cate:\n",
    "    folders=os.path.join(path1,i)\n",
    "    print(folders)"
   ]
  },
  {
   "cell_type": "code",
   "execution_count": 5,
   "metadata": {},
   "outputs": [
    {
     "name": "stdout",
     "output_type": "stream",
     "text": [
      "E:\\Imarticus\\15.NEURAL NETWORK\\transport\\0bike\\bike.PNG\n",
      "E:\\Imarticus\\15.NEURAL NETWORK\\transport\\0bike\\bike1.PNG\n",
      "E:\\Imarticus\\15.NEURAL NETWORK\\transport\\0bike\\bike10.PNG\n",
      "E:\\Imarticus\\15.NEURAL NETWORK\\transport\\0bike\\bike11.PNG\n",
      "E:\\Imarticus\\15.NEURAL NETWORK\\transport\\0bike\\bike12.PNG\n",
      "E:\\Imarticus\\15.NEURAL NETWORK\\transport\\0bike\\bike13.PNG\n",
      "E:\\Imarticus\\15.NEURAL NETWORK\\transport\\0bike\\bike14.PNG\n",
      "E:\\Imarticus\\15.NEURAL NETWORK\\transport\\0bike\\bike15.PNG\n",
      "E:\\Imarticus\\15.NEURAL NETWORK\\transport\\0bike\\bike2.PNG\n",
      "E:\\Imarticus\\15.NEURAL NETWORK\\transport\\0bike\\bike3.PNG\n",
      "E:\\Imarticus\\15.NEURAL NETWORK\\transport\\0bike\\bike4.PNG\n",
      "E:\\Imarticus\\15.NEURAL NETWORK\\transport\\0bike\\bike5.PNG\n",
      "E:\\Imarticus\\15.NEURAL NETWORK\\transport\\0bike\\bike6.PNG\n",
      "E:\\Imarticus\\15.NEURAL NETWORK\\transport\\0bike\\bike7.PNG\n",
      "E:\\Imarticus\\15.NEURAL NETWORK\\transport\\0bike\\bike8.PNG\n",
      "E:\\Imarticus\\15.NEURAL NETWORK\\transport\\0bike\\bike9.PNG\n",
      "E:\\Imarticus\\15.NEURAL NETWORK\\transport\\1Camel\\camel1.PNG\n",
      "E:\\Imarticus\\15.NEURAL NETWORK\\transport\\1Camel\\camel2.PNG\n",
      "E:\\Imarticus\\15.NEURAL NETWORK\\transport\\1Camel\\camel3.PNG\n",
      "E:\\Imarticus\\15.NEURAL NETWORK\\transport\\1Camel\\camel4.PNG\n",
      "E:\\Imarticus\\15.NEURAL NETWORK\\transport\\1Camel\\camel5.PNG\n",
      "E:\\Imarticus\\15.NEURAL NETWORK\\transport\\1Camel\\camel6.PNG\n",
      "E:\\Imarticus\\15.NEURAL NETWORK\\transport\\1Camel\\camel7.PNG\n",
      "E:\\Imarticus\\15.NEURAL NETWORK\\transport\\1Camel\\camel8.PNG\n",
      "E:\\Imarticus\\15.NEURAL NETWORK\\transport\\2car\\car1.PNG\n",
      "E:\\Imarticus\\15.NEURAL NETWORK\\transport\\2car\\car10.PNG\n",
      "E:\\Imarticus\\15.NEURAL NETWORK\\transport\\2car\\car11.PNG\n",
      "E:\\Imarticus\\15.NEURAL NETWORK\\transport\\2car\\car12.PNG\n",
      "E:\\Imarticus\\15.NEURAL NETWORK\\transport\\2car\\car13.PNG\n",
      "E:\\Imarticus\\15.NEURAL NETWORK\\transport\\2car\\car14.PNG\n",
      "E:\\Imarticus\\15.NEURAL NETWORK\\transport\\2car\\car15.PNG\n",
      "E:\\Imarticus\\15.NEURAL NETWORK\\transport\\2car\\car2.PNG\n",
      "E:\\Imarticus\\15.NEURAL NETWORK\\transport\\2car\\car3.PNG\n",
      "E:\\Imarticus\\15.NEURAL NETWORK\\transport\\2car\\car4.PNG\n",
      "E:\\Imarticus\\15.NEURAL NETWORK\\transport\\2car\\car5.PNG\n",
      "E:\\Imarticus\\15.NEURAL NETWORK\\transport\\2car\\car6.PNG\n",
      "E:\\Imarticus\\15.NEURAL NETWORK\\transport\\2car\\car7.PNG\n",
      "E:\\Imarticus\\15.NEURAL NETWORK\\transport\\2car\\car8.PNG\n",
      "E:\\Imarticus\\15.NEURAL NETWORK\\transport\\2car\\car9.PNG\n",
      "E:\\Imarticus\\15.NEURAL NETWORK\\transport\\3elephant\\elephant1.PNG\n",
      "E:\\Imarticus\\15.NEURAL NETWORK\\transport\\3elephant\\elephant10.PNG\n",
      "E:\\Imarticus\\15.NEURAL NETWORK\\transport\\3elephant\\elephant11.PNG\n",
      "E:\\Imarticus\\15.NEURAL NETWORK\\transport\\3elephant\\elephant12.PNG\n",
      "E:\\Imarticus\\15.NEURAL NETWORK\\transport\\3elephant\\elephant13.PNG\n",
      "E:\\Imarticus\\15.NEURAL NETWORK\\transport\\3elephant\\elephant14.PNG\n",
      "E:\\Imarticus\\15.NEURAL NETWORK\\transport\\3elephant\\elephant15.PNG\n",
      "E:\\Imarticus\\15.NEURAL NETWORK\\transport\\3elephant\\elephant2.PNG\n",
      "E:\\Imarticus\\15.NEURAL NETWORK\\transport\\3elephant\\elephant3.PNG\n",
      "E:\\Imarticus\\15.NEURAL NETWORK\\transport\\3elephant\\elephant4.PNG\n",
      "E:\\Imarticus\\15.NEURAL NETWORK\\transport\\3elephant\\elephant5.PNG\n",
      "E:\\Imarticus\\15.NEURAL NETWORK\\transport\\3elephant\\elephant6.PNG\n",
      "E:\\Imarticus\\15.NEURAL NETWORK\\transport\\3elephant\\elephant7.PNG\n",
      "E:\\Imarticus\\15.NEURAL NETWORK\\transport\\3elephant\\elephant8.PNG\n",
      "E:\\Imarticus\\15.NEURAL NETWORK\\transport\\3elephant\\elephant9.PNG\n",
      "E:\\Imarticus\\15.NEURAL NETWORK\\transport\\4horse\\horse1.PNG\n",
      "E:\\Imarticus\\15.NEURAL NETWORK\\transport\\4horse\\horse10.PNG\n",
      "E:\\Imarticus\\15.NEURAL NETWORK\\transport\\4horse\\horse11.PNG\n",
      "E:\\Imarticus\\15.NEURAL NETWORK\\transport\\4horse\\horse12.PNG\n",
      "E:\\Imarticus\\15.NEURAL NETWORK\\transport\\4horse\\horse13.PNG\n",
      "E:\\Imarticus\\15.NEURAL NETWORK\\transport\\4horse\\horse14.PNG\n",
      "E:\\Imarticus\\15.NEURAL NETWORK\\transport\\4horse\\horse15.PNG\n",
      "E:\\Imarticus\\15.NEURAL NETWORK\\transport\\4horse\\horse2.PNG\n",
      "E:\\Imarticus\\15.NEURAL NETWORK\\transport\\4horse\\horse3.PNG\n",
      "E:\\Imarticus\\15.NEURAL NETWORK\\transport\\4horse\\horse4.PNG\n",
      "E:\\Imarticus\\15.NEURAL NETWORK\\transport\\4horse\\horse5.PNG\n",
      "E:\\Imarticus\\15.NEURAL NETWORK\\transport\\4horse\\horse6.PNG\n",
      "E:\\Imarticus\\15.NEURAL NETWORK\\transport\\4horse\\horse7.PNG\n",
      "E:\\Imarticus\\15.NEURAL NETWORK\\transport\\4horse\\horse8.PNG\n",
      "E:\\Imarticus\\15.NEURAL NETWORK\\transport\\4horse\\horse9.PNG\n",
      "E:\\Imarticus\\15.NEURAL NETWORK\\transport\\5plane\\plane1.PNG\n",
      "E:\\Imarticus\\15.NEURAL NETWORK\\transport\\5plane\\plane10.PNG\n",
      "E:\\Imarticus\\15.NEURAL NETWORK\\transport\\5plane\\plane11.PNG\n",
      "E:\\Imarticus\\15.NEURAL NETWORK\\transport\\5plane\\plane12.PNG\n",
      "E:\\Imarticus\\15.NEURAL NETWORK\\transport\\5plane\\plane13.PNG\n",
      "E:\\Imarticus\\15.NEURAL NETWORK\\transport\\5plane\\plane14.PNG\n",
      "E:\\Imarticus\\15.NEURAL NETWORK\\transport\\5plane\\plane15.PNG\n",
      "E:\\Imarticus\\15.NEURAL NETWORK\\transport\\5plane\\plane2.PNG\n",
      "E:\\Imarticus\\15.NEURAL NETWORK\\transport\\5plane\\plane3.PNG\n",
      "E:\\Imarticus\\15.NEURAL NETWORK\\transport\\5plane\\plane4.PNG\n",
      "E:\\Imarticus\\15.NEURAL NETWORK\\transport\\5plane\\plane5.PNG\n",
      "E:\\Imarticus\\15.NEURAL NETWORK\\transport\\5plane\\plane6.PNG\n",
      "E:\\Imarticus\\15.NEURAL NETWORK\\transport\\5plane\\plane7.PNG\n",
      "E:\\Imarticus\\15.NEURAL NETWORK\\transport\\5plane\\plane8.PNG\n",
      "E:\\Imarticus\\15.NEURAL NETWORK\\transport\\5plane\\plane9.PNG\n",
      "E:\\Imarticus\\15.NEURAL NETWORK\\transport\\6ship\\ship1.PNG\n",
      "E:\\Imarticus\\15.NEURAL NETWORK\\transport\\6ship\\ship10.PNG\n",
      "E:\\Imarticus\\15.NEURAL NETWORK\\transport\\6ship\\ship11.PNG\n",
      "E:\\Imarticus\\15.NEURAL NETWORK\\transport\\6ship\\ship12.PNG\n",
      "E:\\Imarticus\\15.NEURAL NETWORK\\transport\\6ship\\ship13.PNG\n",
      "E:\\Imarticus\\15.NEURAL NETWORK\\transport\\6ship\\ship14.PNG\n",
      "E:\\Imarticus\\15.NEURAL NETWORK\\transport\\6ship\\ship15.PNG\n",
      "E:\\Imarticus\\15.NEURAL NETWORK\\transport\\6ship\\ship2.PNG\n",
      "E:\\Imarticus\\15.NEURAL NETWORK\\transport\\6ship\\ship3.PNG\n",
      "E:\\Imarticus\\15.NEURAL NETWORK\\transport\\6ship\\ship4.PNG\n",
      "E:\\Imarticus\\15.NEURAL NETWORK\\transport\\6ship\\ship5.PNG\n",
      "E:\\Imarticus\\15.NEURAL NETWORK\\transport\\6ship\\ship6.PNG\n",
      "E:\\Imarticus\\15.NEURAL NETWORK\\transport\\6ship\\ship7.PNG\n",
      "E:\\Imarticus\\15.NEURAL NETWORK\\transport\\6ship\\ship8.PNG\n",
      "E:\\Imarticus\\15.NEURAL NETWORK\\transport\\6ship\\ship9.PNG\n",
      "E:\\Imarticus\\15.NEURAL NETWORK\\transport\\7train\\Train1.PNG\n",
      "E:\\Imarticus\\15.NEURAL NETWORK\\transport\\7train\\Train10.PNG\n",
      "E:\\Imarticus\\15.NEURAL NETWORK\\transport\\7train\\Train11.PNG\n",
      "E:\\Imarticus\\15.NEURAL NETWORK\\transport\\7train\\Train12.PNG\n",
      "E:\\Imarticus\\15.NEURAL NETWORK\\transport\\7train\\Train13.PNG\n",
      "E:\\Imarticus\\15.NEURAL NETWORK\\transport\\7train\\Train14.PNG\n",
      "E:\\Imarticus\\15.NEURAL NETWORK\\transport\\7train\\Train15.PNG\n",
      "E:\\Imarticus\\15.NEURAL NETWORK\\transport\\7train\\Train5.PNG\n",
      "E:\\Imarticus\\15.NEURAL NETWORK\\transport\\7train\\Train6.PNG\n",
      "E:\\Imarticus\\15.NEURAL NETWORK\\transport\\7train\\Train7.PNG\n",
      "E:\\Imarticus\\15.NEURAL NETWORK\\transport\\7train\\Train8.PNG\n",
      "E:\\Imarticus\\15.NEURAL NETWORK\\transport\\7train\\Train9.PNG\n",
      "E:\\Imarticus\\15.NEURAL NETWORK\\transport\\7train\\trian 2.PNG\n",
      "E:\\Imarticus\\15.NEURAL NETWORK\\transport\\7train\\Trian3.PNG\n",
      "E:\\Imarticus\\15.NEURAL NETWORK\\transport\\7train\\Trian4.PNG\n",
      "E:\\Imarticus\\15.NEURAL NETWORK\\transport\\8truck\\truck1.PNG\n",
      "E:\\Imarticus\\15.NEURAL NETWORK\\transport\\8truck\\truck10.PNG\n",
      "E:\\Imarticus\\15.NEURAL NETWORK\\transport\\8truck\\truck11.PNG\n",
      "E:\\Imarticus\\15.NEURAL NETWORK\\transport\\8truck\\truck12.PNG\n",
      "E:\\Imarticus\\15.NEURAL NETWORK\\transport\\8truck\\truck13.PNG\n",
      "E:\\Imarticus\\15.NEURAL NETWORK\\transport\\8truck\\truck14.PNG\n",
      "E:\\Imarticus\\15.NEURAL NETWORK\\transport\\8truck\\truck15.PNG\n",
      "E:\\Imarticus\\15.NEURAL NETWORK\\transport\\8truck\\truck2.PNG\n",
      "E:\\Imarticus\\15.NEURAL NETWORK\\transport\\8truck\\truck3.PNG\n",
      "E:\\Imarticus\\15.NEURAL NETWORK\\transport\\8truck\\truck4.PNG\n",
      "E:\\Imarticus\\15.NEURAL NETWORK\\transport\\8truck\\truck5.PNG\n",
      "E:\\Imarticus\\15.NEURAL NETWORK\\transport\\8truck\\truck6.PNG\n",
      "E:\\Imarticus\\15.NEURAL NETWORK\\transport\\8truck\\truck7.PNG\n",
      "E:\\Imarticus\\15.NEURAL NETWORK\\transport\\8truck\\truck8.PNG\n",
      "E:\\Imarticus\\15.NEURAL NETWORK\\transport\\8truck\\truck9.PNG\n",
      "E:\\Imarticus\\15.NEURAL NETWORK\\transport\\9autorikshaw\\auto1.PNG\n",
      "E:\\Imarticus\\15.NEURAL NETWORK\\transport\\9autorikshaw\\auto10.PNG\n",
      "E:\\Imarticus\\15.NEURAL NETWORK\\transport\\9autorikshaw\\auto11.PNG\n",
      "E:\\Imarticus\\15.NEURAL NETWORK\\transport\\9autorikshaw\\auto12.PNG\n",
      "E:\\Imarticus\\15.NEURAL NETWORK\\transport\\9autorikshaw\\auto13.PNG\n",
      "E:\\Imarticus\\15.NEURAL NETWORK\\transport\\9autorikshaw\\auto14.PNG\n",
      "E:\\Imarticus\\15.NEURAL NETWORK\\transport\\9autorikshaw\\auto15.PNG\n",
      "E:\\Imarticus\\15.NEURAL NETWORK\\transport\\9autorikshaw\\auto2.PNG\n",
      "E:\\Imarticus\\15.NEURAL NETWORK\\transport\\9autorikshaw\\auto3.PNG\n",
      "E:\\Imarticus\\15.NEURAL NETWORK\\transport\\9autorikshaw\\auto4.PNG\n",
      "E:\\Imarticus\\15.NEURAL NETWORK\\transport\\9autorikshaw\\auto5.PNG\n",
      "E:\\Imarticus\\15.NEURAL NETWORK\\transport\\9autorikshaw\\auto6.PNG\n",
      "E:\\Imarticus\\15.NEURAL NETWORK\\transport\\9autorikshaw\\auto7.PNG\n",
      "E:\\Imarticus\\15.NEURAL NETWORK\\transport\\9autorikshaw\\auto8.PNG\n",
      "E:\\Imarticus\\15.NEURAL NETWORK\\transport\\9autorikshaw\\auto9.PNG\n"
     ]
    }
   ],
   "source": [
    "for i in cate:\n",
    "        folders=os.path.join(path1,i)\n",
    "        for image in os.listdir(folders):\n",
    "            image_path=os.path.join(folders,image)\n",
    "            print(image_path)"
   ]
  },
  {
   "cell_type": "markdown",
   "metadata": {},
   "source": [
    "# Labeling images"
   ]
  },
  {
   "cell_type": "code",
   "execution_count": 6,
   "metadata": {},
   "outputs": [],
   "source": [
    "image_size=200\n",
    "input_image=[]\n",
    "    \n",
    "for i in cate:\n",
    "    folders=os.path.join(path1,i)\n",
    "    label  =cate.index(i)        # we need to tell software which image is of cat and dog\n",
    "    for image in os.listdir(folders):\n",
    "        image_path=os.path.join(folders,image)\n",
    "        image_array= cv2.imread(image_path)\n",
    "        image_array=cv2.resize(image_array,(image_size,image_size)) # Resizing the image\n",
    "        input_image.append([image_array, label])"
   ]
  },
  {
   "cell_type": "code",
   "execution_count": 7,
   "metadata": {},
   "outputs": [],
   "source": [
    "np.random.shuffle(input_image)\n",
    "\n",
    "X=[]\n",
    "y=[]\n",
    "\n",
    "for X_values,labels in input_image:\n",
    "    X.append(X_values)\n",
    "    y.append(labels)"
   ]
  },
  {
   "cell_type": "markdown",
   "metadata": {},
   "source": [
    "# Model Building"
   ]
  },
  {
   "cell_type": "code",
   "execution_count": 16,
   "metadata": {},
   "outputs": [],
   "source": [
    "X=np.array(X)\n",
    "y=np.array(y)\n",
    "\n",
    "X=X/255\n",
    "\n",
    "model=Sequential()\n",
    "model.add(Conv2D(filters=100,kernel_size=(3,3),activation='relu'))\n",
    "model.add(MaxPool2D(pool_size=(2,2)))\n",
    "\n",
    "model.add(MaxPool2D(pool_size=(2,2)))\n",
    "model.add(Flatten())\n",
    "model.add(Dense(50,activation='relu',input_shape=X.shape[1:]))\n",
    "model.add(Dropout(0.4))\n",
    "model.add(Dense(10,activation='softmax'))\n",
    "\n",
    "model.compile(optimizer='adam',loss='sparse_categorical_crossentropy',metrics=['accuracy'])"
   ]
  },
  {
   "cell_type": "code",
   "execution_count": 17,
   "metadata": {},
   "outputs": [
    {
     "name": "stdout",
     "output_type": "stream",
     "text": [
      "Epoch 1/20\n",
      "5/5 [==============================] - 3s 584ms/step - loss: 2.3549 - accuracy: 0.1042\n",
      "Epoch 2/20\n",
      "5/5 [==============================] - 3s 564ms/step - loss: 2.2980 - accuracy: 0.0694\n",
      "Epoch 3/20\n",
      "5/5 [==============================] - 3s 566ms/step - loss: 2.2981 - accuracy: 0.1806\n",
      "Epoch 4/20\n",
      "5/5 [==============================] - 3s 564ms/step - loss: 2.2902 - accuracy: 0.1458\n",
      "Epoch 5/20\n",
      "5/5 [==============================] - 3s 564ms/step - loss: 2.2813 - accuracy: 0.1389\n",
      "Epoch 6/20\n",
      "5/5 [==============================] - 3s 570ms/step - loss: 2.2923 - accuracy: 0.1181\n",
      "Epoch 7/20\n",
      "5/5 [==============================] - 3s 570ms/step - loss: 2.2771 - accuracy: 0.1528\n",
      "Epoch 8/20\n",
      "5/5 [==============================] - 3s 579ms/step - loss: 2.2654 - accuracy: 0.1875\n",
      "Epoch 9/20\n",
      "5/5 [==============================] - 3s 564ms/step - loss: 2.2656 - accuracy: 0.1806\n",
      "Epoch 10/20\n",
      "5/5 [==============================] - 3s 561ms/step - loss: 2.2513 - accuracy: 0.1875\n",
      "Epoch 11/20\n",
      "5/5 [==============================] - 3s 562ms/step - loss: 2.2507 - accuracy: 0.1528\n",
      "Epoch 12/20\n",
      "5/5 [==============================] - 3s 562ms/step - loss: 2.2506 - accuracy: 0.1875\n",
      "Epoch 13/20\n",
      "5/5 [==============================] - 3s 561ms/step - loss: 2.2141 - accuracy: 0.2292\n",
      "Epoch 14/20\n",
      "5/5 [==============================] - 3s 574ms/step - loss: 2.1875 - accuracy: 0.2222\n",
      "Epoch 15/20\n",
      "5/5 [==============================] - 3s 566ms/step - loss: 2.1633 - accuracy: 0.2500\n",
      "Epoch 16/20\n",
      "5/5 [==============================] - 3s 562ms/step - loss: 2.1993 - accuracy: 0.2153\n",
      "Epoch 17/20\n",
      "5/5 [==============================] - 3s 568ms/step - loss: 2.1870 - accuracy: 0.1806\n",
      "Epoch 18/20\n",
      "5/5 [==============================] - 3s 567ms/step - loss: 2.1703 - accuracy: 0.2292\n",
      "Epoch 19/20\n",
      "5/5 [==============================] - 3s 586ms/step - loss: 2.1409 - accuracy: 0.2083\n",
      "Epoch 20/20\n",
      "5/5 [==============================] - 3s 561ms/step - loss: 2.1598 - accuracy: 0.1736\n"
     ]
    },
    {
     "data": {
      "text/plain": [
       "<keras.callbacks.History at 0x17d4bd122b0>"
      ]
     },
     "execution_count": 17,
     "metadata": {},
     "output_type": "execute_result"
    }
   ],
   "source": [
    "model.fit(X,y ,epochs=20)"
   ]
  },
  {
   "cell_type": "code",
   "execution_count": 18,
   "metadata": {},
   "outputs": [],
   "source": [
    "pred=model.predict(X)"
   ]
  },
  {
   "cell_type": "code",
   "execution_count": 19,
   "metadata": {},
   "outputs": [],
   "source": [
    "from sklearn.metrics import confusion_matrix,accuracy_score"
   ]
  },
  {
   "cell_type": "code",
   "execution_count": 20,
   "metadata": {},
   "outputs": [],
   "source": [
    "pred_argmax=np.argmax(pred,axis=1)"
   ]
  },
  {
   "cell_type": "code",
   "execution_count": 21,
   "metadata": {},
   "outputs": [
    {
     "data": {
      "text/plain": [
       "array([[16,  1,  1,  3,  2,  4,  0,  1,  4,  3],\n",
       "       [ 0,  0,  0,  0,  0,  0,  0,  0,  0,  0],\n",
       "       [ 0,  2,  5,  6,  4,  0,  2,  6,  2,  8],\n",
       "       [ 0,  0,  0,  0,  0,  0,  0,  0,  0,  0],\n",
       "       [ 0,  4,  0,  5,  3,  0,  0,  4,  4,  1],\n",
       "       [ 0,  1,  0,  0,  1,  8,  4,  2,  2,  1],\n",
       "       [ 0,  0,  8,  1,  4,  3,  9,  2,  3,  1],\n",
       "       [ 0,  0,  0,  0,  0,  0,  0,  0,  0,  0],\n",
       "       [ 0,  0,  0,  0,  0,  0,  0,  0,  0,  0],\n",
       "       [ 0,  0,  1,  0,  1,  0,  0,  0,  0,  1]], dtype=int64)"
      ]
     },
     "execution_count": 21,
     "metadata": {},
     "output_type": "execute_result"
    }
   ],
   "source": [
    "confusion_matrix(pred_argmax,y)"
   ]
  },
  {
   "cell_type": "code",
   "execution_count": 22,
   "metadata": {},
   "outputs": [
    {
     "data": {
      "text/plain": [
       "29.166666666666668"
      ]
     },
     "execution_count": 22,
     "metadata": {},
     "output_type": "execute_result"
    }
   ],
   "source": [
    "accuracy_score(y,pred_argmax)*100"
   ]
  },
  {
   "cell_type": "code",
   "execution_count": null,
   "metadata": {},
   "outputs": [],
   "source": []
  }
 ],
 "metadata": {
  "kernelspec": {
   "display_name": "Python 3",
   "language": "python",
   "name": "python3"
  },
  "language_info": {
   "codemirror_mode": {
    "name": "ipython",
    "version": 3
   },
   "file_extension": ".py",
   "mimetype": "text/x-python",
   "name": "python",
   "nbconvert_exporter": "python",
   "pygments_lexer": "ipython3",
   "version": "3.9.4"
  }
 },
 "nbformat": 4,
 "nbformat_minor": 4
}
