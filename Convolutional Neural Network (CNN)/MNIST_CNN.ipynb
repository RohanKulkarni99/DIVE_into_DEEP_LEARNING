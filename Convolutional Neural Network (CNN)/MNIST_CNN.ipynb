{
 "cells": [
  {
   "cell_type": "markdown",
   "metadata": {},
   "source": [
    "# MNIST Data with CNN"
   ]
  },
  {
   "cell_type": "markdown",
   "metadata": {},
   "source": [
    "# Author: Rohan Kulkarni"
   ]
  },
  {
   "cell_type": "code",
   "execution_count": 1,
   "metadata": {},
   "outputs": [
    {
     "ename": "ModuleNotFoundError",
     "evalue": "No module named 'pandas'",
     "output_type": "error",
     "traceback": [
      "\u001b[1;31m---------------------------------------------------------------------------\u001b[0m",
      "\u001b[1;31mModuleNotFoundError\u001b[0m                       Traceback (most recent call last)",
      "\u001b[1;32m<ipython-input-1-38b8cad6647b>\u001b[0m in \u001b[0;36m<module>\u001b[1;34m\u001b[0m\n\u001b[1;32m----> 1\u001b[1;33m \u001b[1;32mimport\u001b[0m \u001b[0mpandas\u001b[0m \u001b[1;32mas\u001b[0m \u001b[0mpd\u001b[0m\u001b[1;33m\u001b[0m\u001b[1;33m\u001b[0m\u001b[0m\n\u001b[0m\u001b[0;32m      2\u001b[0m \u001b[1;32mimport\u001b[0m \u001b[0mnumpy\u001b[0m \u001b[1;32mas\u001b[0m \u001b[0mnp\u001b[0m\u001b[1;33m\u001b[0m\u001b[1;33m\u001b[0m\u001b[0m\n\u001b[0;32m      3\u001b[0m \u001b[1;33m\u001b[0m\u001b[0m\n\u001b[0;32m      4\u001b[0m \u001b[1;33m\u001b[0m\u001b[0m\n\u001b[0;32m      5\u001b[0m \u001b[1;32mfrom\u001b[0m \u001b[0mkeras\u001b[0m\u001b[1;33m.\u001b[0m\u001b[0mmodels\u001b[0m \u001b[1;32mimport\u001b[0m \u001b[0mSequential\u001b[0m\u001b[1;33m\u001b[0m\u001b[1;33m\u001b[0m\u001b[0m\n",
      "\u001b[1;31mModuleNotFoundError\u001b[0m: No module named 'pandas'"
     ]
    }
   ],
   "source": [
    "import pandas as pd\n",
    "import numpy as np\n",
    "\n",
    "\n",
    "from keras.models import Sequential\n",
    "from keras.layers import Conv2D,MaxPool2D,Flatten,Dense,Dropout\n",
    "from tensorflow.keras.utils import to_categorical\n",
    "import tensorflow as tf"
   ]
  },
  {
   "cell_type": "code",
   "execution_count": 2,
   "metadata": {},
   "outputs": [
    {
     "ename": "NameError",
     "evalue": "name 'pd' is not defined",
     "output_type": "error",
     "traceback": [
      "\u001b[1;31m---------------------------------------------------------------------------\u001b[0m",
      "\u001b[1;31mNameError\u001b[0m                                 Traceback (most recent call last)",
      "\u001b[1;32m<ipython-input-2-23663aa78884>\u001b[0m in \u001b[0;36m<module>\u001b[1;34m\u001b[0m\n\u001b[1;32m----> 1\u001b[1;33m \u001b[0mmnist\u001b[0m\u001b[1;33m=\u001b[0m\u001b[0mpd\u001b[0m\u001b[1;33m.\u001b[0m\u001b[0mread_csv\u001b[0m\u001b[1;33m(\u001b[0m\u001b[1;34mr'E:\\Imarticus\\15.NEURAL NETWORK\\MNIST_TRAIN.csv'\u001b[0m\u001b[1;33m)\u001b[0m\u001b[1;33m\u001b[0m\u001b[1;33m\u001b[0m\u001b[0m\n\u001b[0m",
      "\u001b[1;31mNameError\u001b[0m: name 'pd' is not defined"
     ]
    }
   ],
   "source": [
    "mnist=pd.read_csv(r'E:\\Imarticus\\15.NEURAL NETWORK\\MNIST_TRAIN.csv')"
   ]
  },
  {
   "cell_type": "code",
   "execution_count": 3,
   "metadata": {},
   "outputs": [],
   "source": [
    "mnist=np.array(mnist)"
   ]
  },
  {
   "cell_type": "code",
   "execution_count": null,
   "metadata": {},
   "outputs": [],
   "source": []
  },
  {
   "cell_type": "code",
   "execution_count": 4,
   "metadata": {},
   "outputs": [
    {
     "data": {
      "text/plain": [
       "(42000, 784)"
      ]
     },
     "execution_count": 4,
     "metadata": {},
     "output_type": "execute_result"
    }
   ],
   "source": [
    "mnist_x=mnist[:,1:]\n",
    "mnist_x.shape"
   ]
  },
  {
   "cell_type": "code",
   "execution_count": 5,
   "metadata": {},
   "outputs": [],
   "source": [
    "mnist_y=mnist[:,0]"
   ]
  },
  {
   "cell_type": "code",
   "execution_count": 6,
   "metadata": {},
   "outputs": [],
   "source": [
    "from sklearn.model_selection import train_test_split\n",
    "mnist_x_train,mnist_x_test,mnist_y_train,mnist_y_test=train_test_split(mnist_x,mnist_y,test_size=0.2)"
   ]
  },
  {
   "cell_type": "code",
   "execution_count": 7,
   "metadata": {},
   "outputs": [],
   "source": [
    "mnist_x_train=tf.keras.utils.normalize(mnist_x_train)"
   ]
  },
  {
   "cell_type": "code",
   "execution_count": 8,
   "metadata": {},
   "outputs": [],
   "source": [
    "mnist_x_test=tf.keras.utils.normalize(mnist_x_test)"
   ]
  },
  {
   "cell_type": "code",
   "execution_count": 9,
   "metadata": {},
   "outputs": [],
   "source": [
    "mnist_x_train=mnist_x_train.reshape(-1,28,28,1)\n"
   ]
  },
  {
   "cell_type": "code",
   "execution_count": 10,
   "metadata": {},
   "outputs": [
    {
     "data": {
      "text/plain": [
       "(33600, 28, 28, 1)"
      ]
     },
     "execution_count": 10,
     "metadata": {},
     "output_type": "execute_result"
    }
   ],
   "source": [
    "mnist_x_train.shape"
   ]
  },
  {
   "cell_type": "code",
   "execution_count": 11,
   "metadata": {},
   "outputs": [],
   "source": [
    "mnist_x_test=mnist_x_test.reshape(-1,28,28,1)"
   ]
  },
  {
   "cell_type": "code",
   "execution_count": 12,
   "metadata": {},
   "outputs": [
    {
     "data": {
      "text/plain": [
       "(8400, 28, 28, 1)"
      ]
     },
     "execution_count": 12,
     "metadata": {},
     "output_type": "execute_result"
    }
   ],
   "source": [
    "mnist_x_test.shape"
   ]
  },
  {
   "cell_type": "code",
   "execution_count": null,
   "metadata": {},
   "outputs": [],
   "source": []
  },
  {
   "cell_type": "code",
   "execution_count": 13,
   "metadata": {},
   "outputs": [],
   "source": [
    "mnist_y=to_categorical(mnist_y) # similar to one hot encoding"
   ]
  },
  {
   "cell_type": "code",
   "execution_count": 14,
   "metadata": {},
   "outputs": [
    {
     "data": {
      "text/plain": [
       "(42000, 10)"
      ]
     },
     "execution_count": 14,
     "metadata": {},
     "output_type": "execute_result"
    }
   ],
   "source": [
    "mnist_y.shape"
   ]
  },
  {
   "cell_type": "code",
   "execution_count": 15,
   "metadata": {},
   "outputs": [],
   "source": [
    "mnist_y_train=to_categorical(mnist_y_train)"
   ]
  },
  {
   "cell_type": "code",
   "execution_count": 16,
   "metadata": {},
   "outputs": [
    {
     "data": {
      "text/plain": [
       "(33600, 10)"
      ]
     },
     "execution_count": 16,
     "metadata": {},
     "output_type": "execute_result"
    }
   ],
   "source": [
    "mnist_y_train.shape"
   ]
  },
  {
   "cell_type": "code",
   "execution_count": 17,
   "metadata": {},
   "outputs": [],
   "source": [
    "mnist_y_test=to_categorical(mnist_y_test)"
   ]
  },
  {
   "cell_type": "code",
   "execution_count": 18,
   "metadata": {},
   "outputs": [
    {
     "data": {
      "text/plain": [
       "(8400, 10)"
      ]
     },
     "execution_count": 18,
     "metadata": {},
     "output_type": "execute_result"
    }
   ],
   "source": [
    "mnist_y_test.shape"
   ]
  },
  {
   "cell_type": "code",
   "execution_count": 19,
   "metadata": {},
   "outputs": [],
   "source": [
    "mnist_y_test_argmax=np.argmax(mnist_y_test,axis=1)"
   ]
  },
  {
   "cell_type": "code",
   "execution_count": 20,
   "metadata": {},
   "outputs": [
    {
     "data": {
      "text/plain": [
       "(8400,)"
      ]
     },
     "execution_count": 20,
     "metadata": {},
     "output_type": "execute_result"
    }
   ],
   "source": [
    "mnist_y_test_argmax.shape"
   ]
  },
  {
   "cell_type": "markdown",
   "metadata": {},
   "source": [
    "# MODEL BUILDING"
   ]
  },
  {
   "cell_type": "code",
   "execution_count": 21,
   "metadata": {},
   "outputs": [],
   "source": [
    "model=Sequential()\n",
    "\n",
    "model.add(Conv2D(filters=16,  kernel_size=(5,5), activation='relu',  padding='same', input_shape=(28,28,1)))\n",
    "model.add(MaxPool2D(pool_size=(2,2)))\n",
    "\n",
    "model.add(Flatten())\n",
    "model.add(Dense(128,activation='relu'))\n",
    "model.add(Dropout(0.4))\n",
    "model.add(Dense(10,activation='softmax'))"
   ]
  },
  {
   "cell_type": "code",
   "execution_count": 22,
   "metadata": {},
   "outputs": [
    {
     "name": "stderr",
     "output_type": "stream",
     "text": [
      "C:\\Users\\_RoXstaR_\\anaconda3\\lib\\site-packages\\keras\\optimizer_v2\\optimizer_v2.py:355: UserWarning: The `lr` argument is deprecated, use `learning_rate` instead.\n",
      "  warnings.warn(\n"
     ]
    }
   ],
   "source": [
    "adam=tf.keras.optimizers.Adam(lr=0.00001)\n",
    "model.compile(optimizer='adam',loss='categorical_crossentropy',metrics=['accuracy'])"
   ]
  },
  {
   "cell_type": "code",
   "execution_count": 23,
   "metadata": {},
   "outputs": [
    {
     "name": "stdout",
     "output_type": "stream",
     "text": [
      "Epoch 1/10\n",
      "840/840 [==============================] - 5s 6ms/step - loss: 0.4777 - accuracy: 0.8579 - val_loss: 0.1697 - val_accuracy: 0.9500\n",
      "Epoch 2/10\n",
      "840/840 [==============================] - 5s 6ms/step - loss: 0.1712 - accuracy: 0.9483 - val_loss: 0.0955 - val_accuracy: 0.9705\n",
      "Epoch 3/10\n",
      "840/840 [==============================] - 5s 6ms/step - loss: 0.1176 - accuracy: 0.9655 - val_loss: 0.0766 - val_accuracy: 0.9759\n",
      "Epoch 4/10\n",
      "840/840 [==============================] - 5s 6ms/step - loss: 0.0937 - accuracy: 0.9726 - val_loss: 0.0716 - val_accuracy: 0.9768\n",
      "Epoch 5/10\n",
      "840/840 [==============================] - 5s 6ms/step - loss: 0.0769 - accuracy: 0.9775 - val_loss: 0.0603 - val_accuracy: 0.9802\n",
      "Epoch 6/10\n",
      "840/840 [==============================] - 5s 6ms/step - loss: 0.0665 - accuracy: 0.9790 - val_loss: 0.0581 - val_accuracy: 0.9807\n",
      "Epoch 7/10\n",
      "840/840 [==============================] - 5s 6ms/step - loss: 0.0596 - accuracy: 0.9816 - val_loss: 0.0501 - val_accuracy: 0.9847\n",
      "Epoch 8/10\n",
      "840/840 [==============================] - 5s 6ms/step - loss: 0.0521 - accuracy: 0.9845 - val_loss: 0.0565 - val_accuracy: 0.9824\n",
      "Epoch 9/10\n",
      "840/840 [==============================] - 5s 6ms/step - loss: 0.0466 - accuracy: 0.9857 - val_loss: 0.0492 - val_accuracy: 0.9856\n",
      "Epoch 10/10\n",
      "840/840 [==============================] - 5s 6ms/step - loss: 0.0405 - accuracy: 0.9871 - val_loss: 0.0513 - val_accuracy: 0.9853\n"
     ]
    }
   ],
   "source": [
    "model2=model.fit(mnist_x_train, mnist_y_train, epochs=10, validation_split=.2, batch_size=32)"
   ]
  },
  {
   "cell_type": "code",
   "execution_count": 32,
   "metadata": {},
   "outputs": [],
   "source": [
    "pred_cnn2=model.predict(mnist_x_test)"
   ]
  },
  {
   "cell_type": "code",
   "execution_count": null,
   "metadata": {},
   "outputs": [],
   "source": []
  },
  {
   "cell_type": "code",
   "execution_count": null,
   "metadata": {},
   "outputs": [],
   "source": []
  },
  {
   "cell_type": "code",
   "execution_count": 33,
   "metadata": {},
   "outputs": [],
   "source": [
    "from sklearn.metrics import confusion_matrix, accuracy_score"
   ]
  },
  {
   "cell_type": "code",
   "execution_count": 34,
   "metadata": {},
   "outputs": [],
   "source": [
    "classes_x=np.argmax(pred_cnn2,axis=1)\n"
   ]
  },
  {
   "cell_type": "code",
   "execution_count": null,
   "metadata": {},
   "outputs": [],
   "source": []
  },
  {
   "cell_type": "code",
   "execution_count": 35,
   "metadata": {},
   "outputs": [
    {
     "data": {
      "text/plain": [
       "array([[792,   0,   1,   0,   0,   0,   0,   0,   5,   1],\n",
       "       [  1, 912,   3,   0,   3,   0,   0,   2,   1,   0],\n",
       "       [  0,   5, 838,   3,   1,   0,   0,   3,   5,   0],\n",
       "       [  1,   0,   3, 832,   0,   7,   0,   0,   2,   5],\n",
       "       [  1,   0,   2,   0, 839,   1,   0,   2,   3,   7],\n",
       "       [  0,   0,   0,   4,   0, 745,   2,   0,   0,   0],\n",
       "       [  2,   0,   0,   1,   1,   5, 844,   0,   3,   0],\n",
       "       [  0,   4,   8,   3,   1,   0,   0, 873,   1,   5],\n",
       "       [  0,   0,   0,   3,   1,   6,   0,   0, 784,   1],\n",
       "       [  0,   0,   1,   1,   2,   1,   0,   3,   3, 811]], dtype=int64)"
      ]
     },
     "execution_count": 35,
     "metadata": {},
     "output_type": "execute_result"
    }
   ],
   "source": [
    "confusion_matrix(classes_x,mnist_y_test_argmax)"
   ]
  },
  {
   "cell_type": "code",
   "execution_count": null,
   "metadata": {},
   "outputs": [],
   "source": []
  },
  {
   "cell_type": "code",
   "execution_count": null,
   "metadata": {},
   "outputs": [],
   "source": []
  },
  {
   "cell_type": "code",
   "execution_count": 36,
   "metadata": {},
   "outputs": [
    {
     "data": {
      "text/plain": [
       "0.9845238095238096"
      ]
     },
     "execution_count": 36,
     "metadata": {},
     "output_type": "execute_result"
    }
   ],
   "source": [
    "accuracy_score(classes_x,mnist_y_test_argmax)"
   ]
  },
  {
   "cell_type": "code",
   "execution_count": 84,
   "metadata": {},
   "outputs": [
    {
     "data": {
      "text/plain": [
       "{'loss': [0.042791757732629776,\n",
       "  0.03791234269738197,\n",
       "  0.03481049835681915,\n",
       "  0.0305225420743227,\n",
       "  0.0267588272690773,\n",
       "  0.02574317157268524,\n",
       "  0.02406441979110241,\n",
       "  0.025006508454680443,\n",
       "  0.02050616405904293,\n",
       "  0.020029906183481216],\n",
       " 'accuracy': [0.9853794574737549,\n",
       "  0.9878348112106323,\n",
       "  0.9888392686843872,\n",
       "  0.9896949529647827,\n",
       "  0.9917038679122925,\n",
       "  0.9915178418159485,\n",
       "  0.9921131134033203,\n",
       "  0.9914434552192688,\n",
       "  0.9932663440704346,\n",
       "  0.9930803775787354],\n",
       " 'val_loss': [0.05512368306517601,\n",
       "  0.05768640711903572,\n",
       "  0.05913236364722252,\n",
       "  0.053398314863443375,\n",
       "  0.06042611598968506,\n",
       "  0.05471038073301315,\n",
       "  0.05948752164840698,\n",
       "  0.058514516800642014,\n",
       "  0.05615545064210892,\n",
       "  0.0608997605741024],\n",
       " 'val_accuracy': [0.9857142567634583,\n",
       "  0.9855654835700989,\n",
       "  0.9857142567634583,\n",
       "  0.984375,\n",
       "  0.9851190447807312,\n",
       "  0.9851190447807312,\n",
       "  0.9863095283508301,\n",
       "  0.9855654835700989,\n",
       "  0.9854166507720947,\n",
       "  0.9861606955528259]}"
      ]
     },
     "execution_count": 84,
     "metadata": {},
     "output_type": "execute_result"
    }
   ],
   "source": [
    "model1.history"
   ]
  },
  {
   "cell_type": "code",
   "execution_count": 87,
   "metadata": {},
   "outputs": [],
   "source": [
    "history_for_LR_3=pd.DataFrame(model1.history)"
   ]
  },
  {
   "cell_type": "code",
   "execution_count": 88,
   "metadata": {},
   "outputs": [
    {
     "data": {
      "text/html": [
       "<div>\n",
       "<style scoped>\n",
       "    .dataframe tbody tr th:only-of-type {\n",
       "        vertical-align: middle;\n",
       "    }\n",
       "\n",
       "    .dataframe tbody tr th {\n",
       "        vertical-align: top;\n",
       "    }\n",
       "\n",
       "    .dataframe thead th {\n",
       "        text-align: right;\n",
       "    }\n",
       "</style>\n",
       "<table border=\"1\" class=\"dataframe\">\n",
       "  <thead>\n",
       "    <tr style=\"text-align: right;\">\n",
       "      <th></th>\n",
       "      <th>loss</th>\n",
       "      <th>accuracy</th>\n",
       "      <th>val_loss</th>\n",
       "      <th>val_accuracy</th>\n",
       "    </tr>\n",
       "  </thead>\n",
       "  <tbody>\n",
       "    <tr>\n",
       "      <th>0</th>\n",
       "      <td>0.042792</td>\n",
       "      <td>0.985379</td>\n",
       "      <td>0.055124</td>\n",
       "      <td>0.985714</td>\n",
       "    </tr>\n",
       "    <tr>\n",
       "      <th>1</th>\n",
       "      <td>0.037912</td>\n",
       "      <td>0.987835</td>\n",
       "      <td>0.057686</td>\n",
       "      <td>0.985565</td>\n",
       "    </tr>\n",
       "    <tr>\n",
       "      <th>2</th>\n",
       "      <td>0.034810</td>\n",
       "      <td>0.988839</td>\n",
       "      <td>0.059132</td>\n",
       "      <td>0.985714</td>\n",
       "    </tr>\n",
       "    <tr>\n",
       "      <th>3</th>\n",
       "      <td>0.030523</td>\n",
       "      <td>0.989695</td>\n",
       "      <td>0.053398</td>\n",
       "      <td>0.984375</td>\n",
       "    </tr>\n",
       "    <tr>\n",
       "      <th>4</th>\n",
       "      <td>0.026759</td>\n",
       "      <td>0.991704</td>\n",
       "      <td>0.060426</td>\n",
       "      <td>0.985119</td>\n",
       "    </tr>\n",
       "    <tr>\n",
       "      <th>5</th>\n",
       "      <td>0.025743</td>\n",
       "      <td>0.991518</td>\n",
       "      <td>0.054710</td>\n",
       "      <td>0.985119</td>\n",
       "    </tr>\n",
       "    <tr>\n",
       "      <th>6</th>\n",
       "      <td>0.024064</td>\n",
       "      <td>0.992113</td>\n",
       "      <td>0.059488</td>\n",
       "      <td>0.986310</td>\n",
       "    </tr>\n",
       "    <tr>\n",
       "      <th>7</th>\n",
       "      <td>0.025007</td>\n",
       "      <td>0.991443</td>\n",
       "      <td>0.058515</td>\n",
       "      <td>0.985565</td>\n",
       "    </tr>\n",
       "    <tr>\n",
       "      <th>8</th>\n",
       "      <td>0.020506</td>\n",
       "      <td>0.993266</td>\n",
       "      <td>0.056155</td>\n",
       "      <td>0.985417</td>\n",
       "    </tr>\n",
       "    <tr>\n",
       "      <th>9</th>\n",
       "      <td>0.020030</td>\n",
       "      <td>0.993080</td>\n",
       "      <td>0.060900</td>\n",
       "      <td>0.986161</td>\n",
       "    </tr>\n",
       "  </tbody>\n",
       "</table>\n",
       "</div>"
      ],
      "text/plain": [
       "       loss  accuracy  val_loss  val_accuracy\n",
       "0  0.042792  0.985379  0.055124      0.985714\n",
       "1  0.037912  0.987835  0.057686      0.985565\n",
       "2  0.034810  0.988839  0.059132      0.985714\n",
       "3  0.030523  0.989695  0.053398      0.984375\n",
       "4  0.026759  0.991704  0.060426      0.985119\n",
       "5  0.025743  0.991518  0.054710      0.985119\n",
       "6  0.024064  0.992113  0.059488      0.986310\n",
       "7  0.025007  0.991443  0.058515      0.985565\n",
       "8  0.020506  0.993266  0.056155      0.985417\n",
       "9  0.020030  0.993080  0.060900      0.986161"
      ]
     },
     "execution_count": 88,
     "metadata": {},
     "output_type": "execute_result"
    }
   ],
   "source": [
    "history_for_LR_3"
   ]
  },
  {
   "cell_type": "code",
   "execution_count": 37,
   "metadata": {},
   "outputs": [
    {
     "data": {
      "text/plain": [
       "{'loss': [0.47766584157943726,\n",
       "  0.17122425138950348,\n",
       "  0.11763754487037659,\n",
       "  0.09371189773082733,\n",
       "  0.07685097306966782,\n",
       "  0.06653434783220291,\n",
       "  0.059560488909482956,\n",
       "  0.052102647721767426,\n",
       "  0.04663372412323952,\n",
       "  0.04047910496592522],\n",
       " 'accuracy': [0.8579241037368774,\n",
       "  0.9483258724212646,\n",
       "  0.9655134081840515,\n",
       "  0.9725818634033203,\n",
       "  0.977529764175415,\n",
       "  0.9790178537368774,\n",
       "  0.981622040271759,\n",
       "  0.9845238327980042,\n",
       "  0.9857142567634583,\n",
       "  0.987127959728241],\n",
       " 'val_loss': [0.16971281170845032,\n",
       "  0.09554331004619598,\n",
       "  0.07659041881561279,\n",
       "  0.07161591947078705,\n",
       "  0.060331616550683975,\n",
       "  0.0581086203455925,\n",
       "  0.050143372267484665,\n",
       "  0.05647624656558037,\n",
       "  0.04922829195857048,\n",
       "  0.05132234841585159],\n",
       " 'val_accuracy': [0.949999988079071,\n",
       "  0.9705356955528259,\n",
       "  0.9758928418159485,\n",
       "  0.9767857193946838,\n",
       "  0.9802083373069763,\n",
       "  0.980654776096344,\n",
       "  0.9846726059913635,\n",
       "  0.9824404716491699,\n",
       "  0.9855654835700989,\n",
       "  0.9852678775787354]}"
      ]
     },
     "execution_count": 37,
     "metadata": {},
     "output_type": "execute_result"
    }
   ],
   "source": [
    "model2.history"
   ]
  },
  {
   "cell_type": "code",
   "execution_count": 38,
   "metadata": {},
   "outputs": [],
   "source": [
    "history_for_LR_model2=pd.DataFrame(model2.history)"
   ]
  },
  {
   "cell_type": "code",
   "execution_count": 39,
   "metadata": {},
   "outputs": [
    {
     "data": {
      "text/html": [
       "<div>\n",
       "<style scoped>\n",
       "    .dataframe tbody tr th:only-of-type {\n",
       "        vertical-align: middle;\n",
       "    }\n",
       "\n",
       "    .dataframe tbody tr th {\n",
       "        vertical-align: top;\n",
       "    }\n",
       "\n",
       "    .dataframe thead th {\n",
       "        text-align: right;\n",
       "    }\n",
       "</style>\n",
       "<table border=\"1\" class=\"dataframe\">\n",
       "  <thead>\n",
       "    <tr style=\"text-align: right;\">\n",
       "      <th></th>\n",
       "      <th>loss</th>\n",
       "      <th>accuracy</th>\n",
       "      <th>val_loss</th>\n",
       "      <th>val_accuracy</th>\n",
       "    </tr>\n",
       "  </thead>\n",
       "  <tbody>\n",
       "    <tr>\n",
       "      <th>0</th>\n",
       "      <td>0.477666</td>\n",
       "      <td>0.857924</td>\n",
       "      <td>0.169713</td>\n",
       "      <td>0.950000</td>\n",
       "    </tr>\n",
       "    <tr>\n",
       "      <th>1</th>\n",
       "      <td>0.171224</td>\n",
       "      <td>0.948326</td>\n",
       "      <td>0.095543</td>\n",
       "      <td>0.970536</td>\n",
       "    </tr>\n",
       "    <tr>\n",
       "      <th>2</th>\n",
       "      <td>0.117638</td>\n",
       "      <td>0.965513</td>\n",
       "      <td>0.076590</td>\n",
       "      <td>0.975893</td>\n",
       "    </tr>\n",
       "    <tr>\n",
       "      <th>3</th>\n",
       "      <td>0.093712</td>\n",
       "      <td>0.972582</td>\n",
       "      <td>0.071616</td>\n",
       "      <td>0.976786</td>\n",
       "    </tr>\n",
       "    <tr>\n",
       "      <th>4</th>\n",
       "      <td>0.076851</td>\n",
       "      <td>0.977530</td>\n",
       "      <td>0.060332</td>\n",
       "      <td>0.980208</td>\n",
       "    </tr>\n",
       "    <tr>\n",
       "      <th>5</th>\n",
       "      <td>0.066534</td>\n",
       "      <td>0.979018</td>\n",
       "      <td>0.058109</td>\n",
       "      <td>0.980655</td>\n",
       "    </tr>\n",
       "    <tr>\n",
       "      <th>6</th>\n",
       "      <td>0.059560</td>\n",
       "      <td>0.981622</td>\n",
       "      <td>0.050143</td>\n",
       "      <td>0.984673</td>\n",
       "    </tr>\n",
       "    <tr>\n",
       "      <th>7</th>\n",
       "      <td>0.052103</td>\n",
       "      <td>0.984524</td>\n",
       "      <td>0.056476</td>\n",
       "      <td>0.982440</td>\n",
       "    </tr>\n",
       "    <tr>\n",
       "      <th>8</th>\n",
       "      <td>0.046634</td>\n",
       "      <td>0.985714</td>\n",
       "      <td>0.049228</td>\n",
       "      <td>0.985565</td>\n",
       "    </tr>\n",
       "    <tr>\n",
       "      <th>9</th>\n",
       "      <td>0.040479</td>\n",
       "      <td>0.987128</td>\n",
       "      <td>0.051322</td>\n",
       "      <td>0.985268</td>\n",
       "    </tr>\n",
       "  </tbody>\n",
       "</table>\n",
       "</div>"
      ],
      "text/plain": [
       "       loss  accuracy  val_loss  val_accuracy\n",
       "0  0.477666  0.857924  0.169713      0.950000\n",
       "1  0.171224  0.948326  0.095543      0.970536\n",
       "2  0.117638  0.965513  0.076590      0.975893\n",
       "3  0.093712  0.972582  0.071616      0.976786\n",
       "4  0.076851  0.977530  0.060332      0.980208\n",
       "5  0.066534  0.979018  0.058109      0.980655\n",
       "6  0.059560  0.981622  0.050143      0.984673\n",
       "7  0.052103  0.984524  0.056476      0.982440\n",
       "8  0.046634  0.985714  0.049228      0.985565\n",
       "9  0.040479  0.987128  0.051322      0.985268"
      ]
     },
     "execution_count": 39,
     "metadata": {},
     "output_type": "execute_result"
    }
   ],
   "source": [
    "history_for_LR_model2"
   ]
  },
  {
   "cell_type": "code",
   "execution_count": null,
   "metadata": {},
   "outputs": [],
   "source": []
  }
 ],
 "metadata": {
  "kernelspec": {
   "display_name": "Python 3",
   "language": "python",
   "name": "python3"
  },
  "language_info": {
   "codemirror_mode": {
    "name": "ipython",
    "version": 3
   },
   "file_extension": ".py",
   "mimetype": "text/x-python",
   "name": "python",
   "nbconvert_exporter": "python",
   "pygments_lexer": "ipython3",
   "version": "3.9.4"
  }
 },
 "nbformat": 4,
 "nbformat_minor": 4
}
